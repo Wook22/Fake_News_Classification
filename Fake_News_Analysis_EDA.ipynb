{
 "cells": [
  {
   "cell_type": "markdown",
   "id": "4bcd3b1c",
   "metadata": {},
   "source": [
    "### Exploratory Data Analysis on Fake News Dataset"
   ]
  },
  {
   "cell_type": "code",
   "execution_count": 2,
   "id": "6619c9cb",
   "metadata": {},
   "outputs": [],
   "source": [
    "import pandas as pd"
   ]
  },
  {
   "cell_type": "code",
   "execution_count": 10,
   "id": "d2f6ab86",
   "metadata": {},
   "outputs": [],
   "source": [
    "Buzzfeed_f = pd.read_csv(\"data/BuzzFeed_fake_news_content.csv\")\n",
    "Buzzfeed_r = pd.read_csv(\"data/BuzzFeed_real_news_content.csv\")\n",
    "\n",
    "gossipcop_f =  pd.read_csv(\"data/gossipcop_fake.csv\")\n",
    "gossipcop_r =  pd.read_csv(\"data/gossipcop_real.csv\")\n",
    "\n",
    "politifact_f =  pd.read_csv(\"data/politifact_fake.csv\")\n",
    "politifact_r =  pd.read_csv(\"data/politifact_real.csv\")\n"
   ]
  },
  {
   "cell_type": "code",
   "execution_count": 6,
   "id": "a1597df6",
   "metadata": {},
   "outputs": [
    {
     "name": "stdout",
     "output_type": "stream",
     "text": [
      "<class 'pandas.core.frame.DataFrame'>\n",
      "RangeIndex: 91 entries, 0 to 90\n",
      "Data columns (total 12 columns):\n",
      " #   Column          Non-Null Count  Dtype \n",
      "---  ------          --------------  ----- \n",
      " 0   id              91 non-null     object\n",
      " 1   title           91 non-null     object\n",
      " 2   text            91 non-null     object\n",
      " 3   url             83 non-null     object\n",
      " 4   top_img         81 non-null     object\n",
      " 5   authors         57 non-null     object\n",
      " 6   source          83 non-null     object\n",
      " 7   publish_date    77 non-null     object\n",
      " 8   movies          21 non-null     object\n",
      " 9   images          81 non-null     object\n",
      " 10  canonical_link  80 non-null     object\n",
      " 11  meta_data       91 non-null     object\n",
      "dtypes: object(12)\n",
      "memory usage: 8.7+ KB\n"
     ]
    }
   ],
   "source": [
    "Buzzfeed_f.info()"
   ]
  },
  {
   "cell_type": "code",
   "execution_count": 11,
   "id": "ff94c3f4",
   "metadata": {},
   "outputs": [
    {
     "name": "stdout",
     "output_type": "stream",
     "text": [
      "<class 'pandas.core.frame.DataFrame'>\n",
      "RangeIndex: 5323 entries, 0 to 5322\n",
      "Data columns (total 4 columns):\n",
      " #   Column     Non-Null Count  Dtype \n",
      "---  ------     --------------  ----- \n",
      " 0   id         5323 non-null   object\n",
      " 1   news_url   5067 non-null   object\n",
      " 2   title      5323 non-null   object\n",
      " 3   tweet_ids  5135 non-null   object\n",
      "dtypes: object(4)\n",
      "memory usage: 166.5+ KB\n"
     ]
    }
   ],
   "source": [
    "gossipcop_f.info()"
   ]
  },
  {
   "cell_type": "code",
   "execution_count": 12,
   "id": "df8c6832",
   "metadata": {},
   "outputs": [
    {
     "name": "stdout",
     "output_type": "stream",
     "text": [
      "<class 'pandas.core.frame.DataFrame'>\n",
      "RangeIndex: 432 entries, 0 to 431\n",
      "Data columns (total 4 columns):\n",
      " #   Column     Non-Null Count  Dtype \n",
      "---  ------     --------------  ----- \n",
      " 0   id         432 non-null    object\n",
      " 1   news_url   428 non-null    object\n",
      " 2   title      432 non-null    object\n",
      " 3   tweet_ids  392 non-null    object\n",
      "dtypes: object(4)\n",
      "memory usage: 13.6+ KB\n"
     ]
    }
   ],
   "source": [
    "politifact_f.info()"
   ]
  }
 ],
 "metadata": {
  "kernelspec": {
   "display_name": "base",
   "language": "python",
   "name": "python3"
  },
  "language_info": {
   "codemirror_mode": {
    "name": "ipython",
    "version": 3
   },
   "file_extension": ".py",
   "mimetype": "text/x-python",
   "name": "python",
   "nbconvert_exporter": "python",
   "pygments_lexer": "ipython3",
   "version": "3.8.8"
  }
 },
 "nbformat": 4,
 "nbformat_minor": 5
}
