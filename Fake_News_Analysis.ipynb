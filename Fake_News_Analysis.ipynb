{
  "nbformat": 4,
  "nbformat_minor": 0,
  "metadata": {
    "colab": {
      "provenance": []
    },
    "kernelspec": {
      "name": "ir",
      "display_name": "R"
    },
    "language_info": {
      "name": "R"
    }
  },
  "cells": [
    {
      "cell_type": "markdown",
      "source": [
        "<a target=\"_blank\" href=\"https://colab.research.google.com/github/Wook22/Fake_News_Classification/blob/main/Fake_News_Analysis.ipynb\">\n",
        "  <img src=\"https://colab.research.google.com/assets/colab-badge.svg\" alt=\"Open In Colab\"/>\n",
        "</a>"
      ],
      "metadata": {
        "id": "Kn2j1jVm6dfi"
      }
    },
    {
      "cell_type": "markdown",
      "source": [
        "# **Data Analysis on Fake News**\n",
        "\n",
        "### Abstract\n"
      ],
      "metadata": {
        "id": "IWep6-Vs6I2M"
      }
    },
    {
      "cell_type": "markdown",
      "source": [
        "\n",
        "\n",
        "## Introduction\n",
        "\n",
        "Have you ever questioned whether the news you see is real or not? Since the internet became widespread, fake news has increasingly been used as a tool to manipulate public opinion. One of the most well-known examples is the Nayirah testimony. On October 10, 1990, a 15-year-old Kuwaiti girl gave a false testimony before the United States Congressional Human Rights Caucus. She claimed to be a volunteer nurse at a Kuwaiti hospital during the Iraqi invasion. In her testimony, she said she witnessed Iraqi soldiers removing premature babies from incubators, stealing the equipment, and leaving the babies to die on the floor. This emotional account played a significant role in shaping public support and helped President George H. W. Bush justify military action against Iraq.\n",
        "\n",
        "However,\n",
        "\n",
        "\"was shown to be almost certainly false by an ABC reporter, John Martin, in March 1991\" (The New York Times)\n",
        "\n",
        "In January 1992, it was revealed that she had never been a nurse and was, in fact, the daughter of Saud Nasser Al-Saud Al-Sabah, the Kuwaiti ambassador to the United States at the time of her testimony. This raises an important question: What should we believe, and what should we not? In an age where misinformation can spread quickly, it's becoming increasingly difficult to know what is true and what is not.\n",
        "\n",
        "Throughout this project, I will develop a model that predicts whether a news article is real or fake based on the count of phrases and language used in the text.\n",
        "\n",
        "\n",
        "\n"
      ],
      "metadata": {
        "id": "Pws6kWRX6z4J"
      }
    },
    {
      "cell_type": "markdown",
      "source": [
        "## Data Description\n",
        "\n"
      ],
      "metadata": {
        "id": "5RHgr0r8Nf5v"
      }
    },
    {
      "cell_type": "code",
      "execution_count": 69,
      "metadata": {
        "id": "n10NWW683AfL"
      },
      "outputs": [],
      "source": [
        "df_real = read.csv(\"BuzzFeed_real_news_content.csv\")\n",
        "df_fake = read.csv(\"BuzzFeed_fake_news_content.csv\")"
      ]
    },
    {
      "cell_type": "code",
      "source": [
        "colnames(df_real)"
      ],
      "metadata": {
        "colab": {
          "base_uri": "https://localhost:8080/",
          "height": 52
        },
        "id": "VPXDt0igVDCa",
        "outputId": "12c0814e-9bea-48b8-e538-7828dfb0d837"
      },
      "execution_count": 70,
      "outputs": [
        {
          "output_type": "display_data",
          "data": {
            "text/html": [
              "<style>\n",
              ".list-inline {list-style: none; margin:0; padding: 0}\n",
              ".list-inline>li {display: inline-block}\n",
              ".list-inline>li:not(:last-child)::after {content: \"\\00b7\"; padding: 0 .5ex}\n",
              "</style>\n",
              "<ol class=list-inline><li>'id'</li><li>'title'</li><li>'text'</li><li>'url'</li><li>'top_img'</li><li>'authors'</li><li>'source'</li><li>'publish_date'</li><li>'movies'</li><li>'images'</li><li>'canonical_link'</li><li>'meta_data'</li></ol>\n"
            ],
            "text/markdown": "1. 'id'\n2. 'title'\n3. 'text'\n4. 'url'\n5. 'top_img'\n6. 'authors'\n7. 'source'\n8. 'publish_date'\n9. 'movies'\n10. 'images'\n11. 'canonical_link'\n12. 'meta_data'\n\n\n",
            "text/latex": "\\begin{enumerate*}\n\\item 'id'\n\\item 'title'\n\\item 'text'\n\\item 'url'\n\\item 'top\\_img'\n\\item 'authors'\n\\item 'source'\n\\item 'publish\\_date'\n\\item 'movies'\n\\item 'images'\n\\item 'canonical\\_link'\n\\item 'meta\\_data'\n\\end{enumerate*}\n",
            "text/plain": [
              " [1] \"id\"             \"title\"          \"text\"           \"url\"           \n",
              " [5] \"top_img\"        \"authors\"        \"source\"         \"publish_date\"  \n",
              " [9] \"movies\"         \"images\"         \"canonical_link\" \"meta_data\"     "
            ]
          },
          "metadata": {}
        }
      ]
    },
    {
      "cell_type": "code",
      "source": [
        "colnames(df_fake)"
      ],
      "metadata": {
        "colab": {
          "base_uri": "https://localhost:8080/",
          "height": 52
        },
        "id": "1AcFMTCgVaDI",
        "outputId": "7677a340-1343-42cc-c35c-1707b620cc97"
      },
      "execution_count": 71,
      "outputs": [
        {
          "output_type": "display_data",
          "data": {
            "text/html": [
              "<style>\n",
              ".list-inline {list-style: none; margin:0; padding: 0}\n",
              ".list-inline>li {display: inline-block}\n",
              ".list-inline>li:not(:last-child)::after {content: \"\\00b7\"; padding: 0 .5ex}\n",
              "</style>\n",
              "<ol class=list-inline><li>'id'</li><li>'title'</li><li>'text'</li><li>'url'</li><li>'top_img'</li><li>'authors'</li><li>'source'</li><li>'publish_date'</li><li>'movies'</li><li>'images'</li><li>'canonical_link'</li><li>'meta_data'</li></ol>\n"
            ],
            "text/markdown": "1. 'id'\n2. 'title'\n3. 'text'\n4. 'url'\n5. 'top_img'\n6. 'authors'\n7. 'source'\n8. 'publish_date'\n9. 'movies'\n10. 'images'\n11. 'canonical_link'\n12. 'meta_data'\n\n\n",
            "text/latex": "\\begin{enumerate*}\n\\item 'id'\n\\item 'title'\n\\item 'text'\n\\item 'url'\n\\item 'top\\_img'\n\\item 'authors'\n\\item 'source'\n\\item 'publish\\_date'\n\\item 'movies'\n\\item 'images'\n\\item 'canonical\\_link'\n\\item 'meta\\_data'\n\\end{enumerate*}\n",
            "text/plain": [
              " [1] \"id\"             \"title\"          \"text\"           \"url\"           \n",
              " [5] \"top_img\"        \"authors\"        \"source\"         \"publish_date\"  \n",
              " [9] \"movies\"         \"images\"         \"canonical_link\" \"meta_data\"     "
            ]
          },
          "metadata": {}
        }
      ]
    },
    {
      "cell_type": "code",
      "source": [
        "df_real[\"real_fake\"] = 0\n",
        "df_fake[\"real_fake\"] = 1\n",
        "\n",
        "buzzfeed = rbind(df_real, df_fake)"
      ],
      "metadata": {
        "id": "5rxfcOs2Vm-7"
      },
      "execution_count": 72,
      "outputs": []
    },
    {
      "cell_type": "code",
      "source": [
        "install.packages(c(\"tidytext\", \"dplyr\", \"stringr\", \"tidyr\"))\n",
        "\n",
        "# Load necessary libraries\n",
        "library(dplyr)\n",
        "library(stringr)\n",
        "library(tidytext)\n",
        "library(tidyr)\n"
      ],
      "metadata": {
        "colab": {
          "base_uri": "https://localhost:8080/"
        },
        "id": "Jcd7tl14WIoJ",
        "outputId": "1ec4f1e9-c7d3-41b9-fff9-b40f4bb69b41"
      },
      "execution_count": 73,
      "outputs": [
        {
          "output_type": "stream",
          "name": "stderr",
          "text": [
            "Installing packages into ‘/usr/local/lib/R/site-library’\n",
            "(as ‘lib’ is unspecified)\n",
            "\n"
          ]
        }
      ]
    },
    {
      "cell_type": "code",
      "source": [
        "# Create temporary dataset\n",
        "df <- buzzfeed\n",
        "\n",
        "# Tokenize text and count word frequencies\n",
        "all_words <- df %>%\n",
        "  select(text) %>%\n",
        "  unnest_tokens(word, text) %>%\n",
        "  count(word, sort = TRUE)\n",
        "\n",
        "# Function to estimate syllables by counting vowel groups\n",
        "estimate_syllables <- function(word) {\n",
        "  str_count(tolower(word), \"[aeiouy]+\")\n",
        "}\n",
        "\n",
        "# Add syllable counts\n",
        "all_words <- all_words %>%\n",
        "  mutate(syllables = estimate_syllables(word)) %>%\n",
        "  filter(syllables > 2)\n",
        "\n",
        "# Get top 30 words with more than 3 syllables\n",
        "top50_words <- head(all_words$word, 30)\n",
        "\n",
        "# Function to count word occurrences in text\n",
        "count_word <- function(text, word) {\n",
        "  str_count(tolower(text), fixed(tolower(word)))\n",
        "}\n",
        "\n",
        "# Create new columns for each top word\n",
        "for (w in top50_words) {\n",
        "  df[[paste0(\"word_\", w)]] <- sapply(df$text, count_word, word = w)\n",
        "}"
      ],
      "metadata": {
        "id": "eLGPEITtYqtb"
      },
      "execution_count": 131,
      "outputs": []
    },
    {
      "cell_type": "code",
      "source": [
        "# Remove columns by name\n",
        "df_drop <- df %>%\n",
        "  select(-title, -source, -publish_date, -id, -text, -url, -top_img, -movies, -images, -canonical_link, -meta_data)"
      ],
      "metadata": {
        "id": "vvtNQJA-Zx9d"
      },
      "execution_count": 134,
      "outputs": []
    },
    {
      "cell_type": "code",
      "source": [
        "colnames(df_drop)"
      ],
      "metadata": {
        "colab": {
          "base_uri": "https://localhost:8080/",
          "height": 173
        },
        "id": "TeVTc-lbvd1s",
        "outputId": "f534b4c9-5582-4a63-de21-6a6a4db91231"
      },
      "execution_count": 109,
      "outputs": [
        {
          "output_type": "display_data",
          "data": {
            "text/html": [
              "<style>\n",
              ".list-inline {list-style: none; margin:0; padding: 0}\n",
              ".list-inline>li {display: inline-block}\n",
              ".list-inline>li:not(:last-child)::after {content: \"\\00b7\"; padding: 0 .5ex}\n",
              "</style>\n",
              "<ol class=list-inline><li>'authors'</li><li>'real_fake'</li><li>'word_hillary'</li><li>'word_president'</li><li>'word_debate'</li><li>'word_obama'</li><li>'word_police'</li><li>'word_because'</li><li>'word_american'</li><li>'word_presidential'</li><li>'word_before'</li><li>'word_america'</li><li>'word_election'</li><li>'word_republican'</li><li>'word_foundation'</li><li>'word_according'</li><li>'word_every'</li><li>'word_september'</li><li>'word_united'</li><li>'word_another'</li><li>'word_political'</li><li>'word_candidate'</li><li>'word_americans'</li><li>'word_national'</li><li>'word_charlotte'</li><li>'word_democratic'</li><li>'word_policy'</li><li>'word_something'</li><li>'word_washington'</li><li>'word_nominee'</li><li>'word_security'</li><li>'word_federal'</li><li>'word_terrorism'</li><li>'word_department'</li><li>'word_government'</li><li>'word_actually'</li><li>'word_rahami'</li><li>'word_continued'</li><li>'word_everyone'</li><li>'word_general'</li><li>'word_office'</li><li>'word_terrorists'</li><li>'word_business'</li><li>'word_islamic'</li><li>'word_statement'</li><li>'word_anyone'</li><li>'word_debates'</li><li>'word_candidates'</li><li>'word_military'</li><li>'word_including'</li><li>'word_officials'</li><li>'word_terrorist'</li></ol>\n"
            ],
            "text/markdown": "1. 'authors'\n2. 'real_fake'\n3. 'word_hillary'\n4. 'word_president'\n5. 'word_debate'\n6. 'word_obama'\n7. 'word_police'\n8. 'word_because'\n9. 'word_american'\n10. 'word_presidential'\n11. 'word_before'\n12. 'word_america'\n13. 'word_election'\n14. 'word_republican'\n15. 'word_foundation'\n16. 'word_according'\n17. 'word_every'\n18. 'word_september'\n19. 'word_united'\n20. 'word_another'\n21. 'word_political'\n22. 'word_candidate'\n23. 'word_americans'\n24. 'word_national'\n25. 'word_charlotte'\n26. 'word_democratic'\n27. 'word_policy'\n28. 'word_something'\n29. 'word_washington'\n30. 'word_nominee'\n31. 'word_security'\n32. 'word_federal'\n33. 'word_terrorism'\n34. 'word_department'\n35. 'word_government'\n36. 'word_actually'\n37. 'word_rahami'\n38. 'word_continued'\n39. 'word_everyone'\n40. 'word_general'\n41. 'word_office'\n42. 'word_terrorists'\n43. 'word_business'\n44. 'word_islamic'\n45. 'word_statement'\n46. 'word_anyone'\n47. 'word_debates'\n48. 'word_candidates'\n49. 'word_military'\n50. 'word_including'\n51. 'word_officials'\n52. 'word_terrorist'\n\n\n",
            "text/latex": "\\begin{enumerate*}\n\\item 'authors'\n\\item 'real\\_fake'\n\\item 'word\\_hillary'\n\\item 'word\\_president'\n\\item 'word\\_debate'\n\\item 'word\\_obama'\n\\item 'word\\_police'\n\\item 'word\\_because'\n\\item 'word\\_american'\n\\item 'word\\_presidential'\n\\item 'word\\_before'\n\\item 'word\\_america'\n\\item 'word\\_election'\n\\item 'word\\_republican'\n\\item 'word\\_foundation'\n\\item 'word\\_according'\n\\item 'word\\_every'\n\\item 'word\\_september'\n\\item 'word\\_united'\n\\item 'word\\_another'\n\\item 'word\\_political'\n\\item 'word\\_candidate'\n\\item 'word\\_americans'\n\\item 'word\\_national'\n\\item 'word\\_charlotte'\n\\item 'word\\_democratic'\n\\item 'word\\_policy'\n\\item 'word\\_something'\n\\item 'word\\_washington'\n\\item 'word\\_nominee'\n\\item 'word\\_security'\n\\item 'word\\_federal'\n\\item 'word\\_terrorism'\n\\item 'word\\_department'\n\\item 'word\\_government'\n\\item 'word\\_actually'\n\\item 'word\\_rahami'\n\\item 'word\\_continued'\n\\item 'word\\_everyone'\n\\item 'word\\_general'\n\\item 'word\\_office'\n\\item 'word\\_terrorists'\n\\item 'word\\_business'\n\\item 'word\\_islamic'\n\\item 'word\\_statement'\n\\item 'word\\_anyone'\n\\item 'word\\_debates'\n\\item 'word\\_candidates'\n\\item 'word\\_military'\n\\item 'word\\_including'\n\\item 'word\\_officials'\n\\item 'word\\_terrorist'\n\\end{enumerate*}\n",
            "text/plain": [
              " [1] \"authors\"           \"real_fake\"         \"word_hillary\"     \n",
              " [4] \"word_president\"    \"word_debate\"       \"word_obama\"       \n",
              " [7] \"word_police\"       \"word_because\"      \"word_american\"    \n",
              "[10] \"word_presidential\" \"word_before\"       \"word_america\"     \n",
              "[13] \"word_election\"     \"word_republican\"   \"word_foundation\"  \n",
              "[16] \"word_according\"    \"word_every\"        \"word_september\"   \n",
              "[19] \"word_united\"       \"word_another\"      \"word_political\"   \n",
              "[22] \"word_candidate\"    \"word_americans\"    \"word_national\"    \n",
              "[25] \"word_charlotte\"    \"word_democratic\"   \"word_policy\"      \n",
              "[28] \"word_something\"    \"word_washington\"   \"word_nominee\"     \n",
              "[31] \"word_security\"     \"word_federal\"      \"word_terrorism\"   \n",
              "[34] \"word_department\"   \"word_government\"   \"word_actually\"    \n",
              "[37] \"word_rahami\"       \"word_continued\"    \"word_everyone\"    \n",
              "[40] \"word_general\"      \"word_office\"       \"word_terrorists\"  \n",
              "[43] \"word_business\"     \"word_islamic\"      \"word_statement\"   \n",
              "[46] \"word_anyone\"       \"word_debates\"      \"word_candidates\"  \n",
              "[49] \"word_military\"     \"word_including\"    \"word_officials\"   \n",
              "[52] \"word_terrorist\"   "
            ]
          },
          "metadata": {}
        }
      ]
    },
    {
      "cell_type": "code",
      "source": [
        "print(colSums(is.na(df_drop)))\n"
      ],
      "metadata": {
        "colab": {
          "base_uri": "https://localhost:8080/"
        },
        "id": "ogVNF4TDwN1N",
        "outputId": "2e11768e-dd67-4801-c698-bdc0fe7a3b4b"
      },
      "execution_count": 135,
      "outputs": [
        {
          "output_type": "stream",
          "name": "stdout",
          "text": [
            "          authors         real_fake      word_hillary    word_president \n",
            "                0                 0                 0                 0 \n",
            "      word_debate        word_obama       word_police      word_because \n",
            "                0                 0                 0                 0 \n",
            "    word_american word_presidential       word_before      word_america \n",
            "                0                 0                 0                 0 \n",
            "    word_election   word_republican   word_foundation    word_according \n",
            "                0                 0                 0                 0 \n",
            "       word_every    word_september       word_united      word_another \n",
            "                0                 0                 0                 0 \n",
            "   word_political    word_candidate    word_americans     word_national \n",
            "                0                 0                 0                 0 \n",
            "   word_charlotte   word_democratic       word_policy    word_something \n",
            "                0                 0                 0                 0 \n",
            "  word_washington      word_nominee     word_security      word_federal \n",
            "                0                 0                 0                 0 \n"
          ]
        }
      ]
    },
    {
      "cell_type": "code",
      "source": [
        "df_dropna <- df_drop %>%\n",
        "  filter(\n",
        "    !is.na(authors),\n",
        "    trimws(authors) != \"\",\n",
        "    trimws(authors) != \"View All Posts\"\n",
        "  )\n",
        "\n",
        "buzzfeed_data <- df_dropna\n",
        "head(buzzfeed_data)"
      ],
      "metadata": {
        "colab": {
          "base_uri": "https://localhost:8080/",
          "height": 532
        },
        "id": "Dq-GblBYwhtN",
        "outputId": "a7a4d6d0-cc58-46cd-f26f-90ef424f84e2"
      },
      "execution_count": 136,
      "outputs": [
        {
          "output_type": "display_data",
          "data": {
            "text/html": [
              "<table class=\"dataframe\">\n",
              "<caption>A data.frame: 6 × 32</caption>\n",
              "<thead>\n",
              "\t<tr><th></th><th scope=col>authors</th><th scope=col>real_fake</th><th scope=col>word_hillary</th><th scope=col>word_president</th><th scope=col>word_debate</th><th scope=col>word_obama</th><th scope=col>word_police</th><th scope=col>word_because</th><th scope=col>word_american</th><th scope=col>word_presidential</th><th scope=col>⋯</th><th scope=col>word_americans</th><th scope=col>word_national</th><th scope=col>word_charlotte</th><th scope=col>word_democratic</th><th scope=col>word_policy</th><th scope=col>word_something</th><th scope=col>word_washington</th><th scope=col>word_nominee</th><th scope=col>word_security</th><th scope=col>word_federal</th></tr>\n",
              "\t<tr><th></th><th scope=col>&lt;chr&gt;</th><th scope=col>&lt;dbl&gt;</th><th scope=col>&lt;int&gt;</th><th scope=col>&lt;int&gt;</th><th scope=col>&lt;int&gt;</th><th scope=col>&lt;int&gt;</th><th scope=col>&lt;int&gt;</th><th scope=col>&lt;int&gt;</th><th scope=col>&lt;int&gt;</th><th scope=col>&lt;int&gt;</th><th scope=col>⋯</th><th scope=col>&lt;int&gt;</th><th scope=col>&lt;int&gt;</th><th scope=col>&lt;int&gt;</th><th scope=col>&lt;int&gt;</th><th scope=col>&lt;int&gt;</th><th scope=col>&lt;int&gt;</th><th scope=col>&lt;int&gt;</th><th scope=col>&lt;int&gt;</th><th scope=col>&lt;int&gt;</th><th scope=col>&lt;int&gt;</th></tr>\n",
              "</thead>\n",
              "<tbody>\n",
              "\t<tr><th scope=row>1</th><td>View All Posts,Leonora Cravotta                 </td><td>0</td><td>1</td><td>1</td><td>0</td><td>0</td><td>2</td><td>0</td><td> 0</td><td>0</td><td>⋯</td><td>0</td><td>2</td><td>0</td><td>0</td><td>0</td><td>0</td><td>0</td><td>0</td><td>0</td><td>0</td></tr>\n",
              "\t<tr><th scope=row>2</th><td>More Candace,Adam Kelsey,Abc News,More Adam     </td><td>0</td><td>0</td><td>1</td><td>0</td><td>0</td><td>5</td><td>1</td><td>11</td><td>1</td><td>⋯</td><td>8</td><td>0</td><td>1</td><td>0</td><td>0</td><td>0</td><td>0</td><td>2</td><td>0</td><td>0</td></tr>\n",
              "\t<tr><th scope=row>3</th><td>Cassy Fiano                                     </td><td>0</td><td>0</td><td>0</td><td>0</td><td>9</td><td>0</td><td>1</td><td> 1</td><td>0</td><td>⋯</td><td>1</td><td>3</td><td>0</td><td>0</td><td>0</td><td>2</td><td>0</td><td>0</td><td>2</td><td>0</td></tr>\n",
              "\t<tr><th scope=row>4</th><td>Jack Shafer,Erick Trickey,Zachary Karabell      </td><td>0</td><td>3</td><td>1</td><td>1</td><td>1</td><td>0</td><td>0</td><td> 5</td><td>0</td><td>⋯</td><td>1</td><td>1</td><td>0</td><td>3</td><td>0</td><td>0</td><td>0</td><td>0</td><td>1</td><td>0</td></tr>\n",
              "\t<tr><th scope=row>5</th><td>John Parkinson,More John,Abc News,More Alexander</td><td>0</td><td>1</td><td>7</td><td>0</td><td>5</td><td>0</td><td>0</td><td> 0</td><td>1</td><td>⋯</td><td>0</td><td>0</td><td>0</td><td>0</td><td>0</td><td>0</td><td>0</td><td>0</td><td>0</td><td>0</td></tr>\n",
              "\t<tr><th scope=row>6</th><td>Cassy Fiano                                     </td><td>0</td><td>1</td><td>0</td><td>0</td><td>0</td><td>4</td><td>0</td><td> 1</td><td>0</td><td>⋯</td><td>0</td><td>0</td><td>0</td><td>0</td><td>0</td><td>0</td><td>0</td><td>0</td><td>0</td><td>0</td></tr>\n",
              "</tbody>\n",
              "</table>\n"
            ],
            "text/markdown": "\nA data.frame: 6 × 32\n\n| <!--/--> | authors &lt;chr&gt; | real_fake &lt;dbl&gt; | word_hillary &lt;int&gt; | word_president &lt;int&gt; | word_debate &lt;int&gt; | word_obama &lt;int&gt; | word_police &lt;int&gt; | word_because &lt;int&gt; | word_american &lt;int&gt; | word_presidential &lt;int&gt; | ⋯ ⋯ | word_americans &lt;int&gt; | word_national &lt;int&gt; | word_charlotte &lt;int&gt; | word_democratic &lt;int&gt; | word_policy &lt;int&gt; | word_something &lt;int&gt; | word_washington &lt;int&gt; | word_nominee &lt;int&gt; | word_security &lt;int&gt; | word_federal &lt;int&gt; |\n|---|---|---|---|---|---|---|---|---|---|---|---|---|---|---|---|---|---|---|---|---|---|\n| 1 | View All Posts,Leonora Cravotta                  | 0 | 1 | 1 | 0 | 0 | 2 | 0 |  0 | 0 | ⋯ | 0 | 2 | 0 | 0 | 0 | 0 | 0 | 0 | 0 | 0 |\n| 2 | More Candace,Adam Kelsey,Abc News,More Adam      | 0 | 0 | 1 | 0 | 0 | 5 | 1 | 11 | 1 | ⋯ | 8 | 0 | 1 | 0 | 0 | 0 | 0 | 2 | 0 | 0 |\n| 3 | Cassy Fiano                                      | 0 | 0 | 0 | 0 | 9 | 0 | 1 |  1 | 0 | ⋯ | 1 | 3 | 0 | 0 | 0 | 2 | 0 | 0 | 2 | 0 |\n| 4 | Jack Shafer,Erick Trickey,Zachary Karabell       | 0 | 3 | 1 | 1 | 1 | 0 | 0 |  5 | 0 | ⋯ | 1 | 1 | 0 | 3 | 0 | 0 | 0 | 0 | 1 | 0 |\n| 5 | John Parkinson,More John,Abc News,More Alexander | 0 | 1 | 7 | 0 | 5 | 0 | 0 |  0 | 1 | ⋯ | 0 | 0 | 0 | 0 | 0 | 0 | 0 | 0 | 0 | 0 |\n| 6 | Cassy Fiano                                      | 0 | 1 | 0 | 0 | 0 | 4 | 0 |  1 | 0 | ⋯ | 0 | 0 | 0 | 0 | 0 | 0 | 0 | 0 | 0 | 0 |\n\n",
            "text/latex": "A data.frame: 6 × 32\n\\begin{tabular}{r|lllllllllllllllllllll}\n  & authors & real\\_fake & word\\_hillary & word\\_president & word\\_debate & word\\_obama & word\\_police & word\\_because & word\\_american & word\\_presidential & ⋯ & word\\_americans & word\\_national & word\\_charlotte & word\\_democratic & word\\_policy & word\\_something & word\\_washington & word\\_nominee & word\\_security & word\\_federal\\\\\n  & <chr> & <dbl> & <int> & <int> & <int> & <int> & <int> & <int> & <int> & <int> & ⋯ & <int> & <int> & <int> & <int> & <int> & <int> & <int> & <int> & <int> & <int>\\\\\n\\hline\n\t1 & View All Posts,Leonora Cravotta                  & 0 & 1 & 1 & 0 & 0 & 2 & 0 &  0 & 0 & ⋯ & 0 & 2 & 0 & 0 & 0 & 0 & 0 & 0 & 0 & 0\\\\\n\t2 & More Candace,Adam Kelsey,Abc News,More Adam      & 0 & 0 & 1 & 0 & 0 & 5 & 1 & 11 & 1 & ⋯ & 8 & 0 & 1 & 0 & 0 & 0 & 0 & 2 & 0 & 0\\\\\n\t3 & Cassy Fiano                                      & 0 & 0 & 0 & 0 & 9 & 0 & 1 &  1 & 0 & ⋯ & 1 & 3 & 0 & 0 & 0 & 2 & 0 & 0 & 2 & 0\\\\\n\t4 & Jack Shafer,Erick Trickey,Zachary Karabell       & 0 & 3 & 1 & 1 & 1 & 0 & 0 &  5 & 0 & ⋯ & 1 & 1 & 0 & 3 & 0 & 0 & 0 & 0 & 1 & 0\\\\\n\t5 & John Parkinson,More John,Abc News,More Alexander & 0 & 1 & 7 & 0 & 5 & 0 & 0 &  0 & 1 & ⋯ & 0 & 0 & 0 & 0 & 0 & 0 & 0 & 0 & 0 & 0\\\\\n\t6 & Cassy Fiano                                      & 0 & 1 & 0 & 0 & 0 & 4 & 0 &  1 & 0 & ⋯ & 0 & 0 & 0 & 0 & 0 & 0 & 0 & 0 & 0 & 0\\\\\n\\end{tabular}\n",
            "text/plain": [
              "  authors                                          real_fake word_hillary\n",
              "1 View All Posts,Leonora Cravotta                  0         1           \n",
              "2 More Candace,Adam Kelsey,Abc News,More Adam      0         0           \n",
              "3 Cassy Fiano                                      0         0           \n",
              "4 Jack Shafer,Erick Trickey,Zachary Karabell       0         3           \n",
              "5 John Parkinson,More John,Abc News,More Alexander 0         1           \n",
              "6 Cassy Fiano                                      0         1           \n",
              "  word_president word_debate word_obama word_police word_because word_american\n",
              "1 1              0           0          2           0             0           \n",
              "2 1              0           0          5           1            11           \n",
              "3 0              0           9          0           1             1           \n",
              "4 1              1           1          0           0             5           \n",
              "5 7              0           5          0           0             0           \n",
              "6 0              0           0          4           0             1           \n",
              "  word_presidential ⋯ word_americans word_national word_charlotte\n",
              "1 0                 ⋯ 0              2             0             \n",
              "2 1                 ⋯ 8              0             1             \n",
              "3 0                 ⋯ 1              3             0             \n",
              "4 0                 ⋯ 1              1             0             \n",
              "5 1                 ⋯ 0              0             0             \n",
              "6 0                 ⋯ 0              0             0             \n",
              "  word_democratic word_policy word_something word_washington word_nominee\n",
              "1 0               0           0              0               0           \n",
              "2 0               0           0              0               2           \n",
              "3 0               0           2              0               0           \n",
              "4 3               0           0              0               0           \n",
              "5 0               0           0              0               0           \n",
              "6 0               0           0              0               0           \n",
              "  word_security word_federal\n",
              "1 0             0           \n",
              "2 0             0           \n",
              "3 2             0           \n",
              "4 1             0           \n",
              "5 0             0           \n",
              "6 0             0           "
            ]
          },
          "metadata": {}
        }
      ]
    },
    {
      "cell_type": "markdown",
      "source": [
        "## Data Analysis using Logistic Regression Model\n",
        "\n",
        "**Problem:**\n",
        "\n",
        "Can we predict whether a news article is real or fake using the most frequent words in the article text?\n",
        "\n",
        "**Dataset:**\n",
        "\n",
        "*   Target: real_fake (binary: 1 = real, 0 = fake)\n",
        "*   Predictors: Word frequency counts for top 50 words (word_hillary, word_president, etc.)\n",
        "*   Other metadata: title, authors, publish_date, etc.\n",
        "\n"
      ],
      "metadata": {
        "id": "O_1Jiyecyo2W"
      }
    },
    {
      "cell_type": "code",
      "source": [
        "buzzfeed_data$authors"
      ],
      "metadata": {
        "colab": {
          "base_uri": "https://localhost:8080/",
          "height": 816
        },
        "id": "FIR_wIEc_Y-R",
        "outputId": "80b6da48-5710-4da3-96bd-c04c02388e8c"
      },
      "execution_count": 137,
      "outputs": [
        {
          "output_type": "display_data",
          "data": {
            "text/html": [
              "<style>\n",
              ".list-inline {list-style: none; margin:0; padding: 0}\n",
              ".list-inline>li {display: inline-block}\n",
              ".list-inline>li:not(:last-child)::after {content: \"\\00b7\"; padding: 0 .5ex}\n",
              "</style>\n",
              "<ol class=list-inline><li>'View All Posts,Leonora Cravotta'</li><li>'More Candace,Adam Kelsey,Abc News,More Adam'</li><li>'Cassy Fiano'</li><li>'Jack Shafer,Erick Trickey,Zachary Karabell'</li><li>'John Parkinson,More John,Abc News,More Alexander'</li><li>'Cassy Fiano'</li><li>'More Veronica,Ryan Struyk,More Ryan,Meghan Keneally,More Shushannah,Abc News,More Meghan,Veronica Stracqualursi'</li><li>'More Michael,Abc News'</li><li>'Ashley Killough'</li><li>'Jack Shafer,Steven Shepard,Glenn Thrush,Nolan D,Shane Goldmacher'</li><li>'Jack Shafer,Jeff Greenfield'</li><li>'Mj Lee,Cnn National Politics Reporter'</li><li>'Jack Shafer,Politico Staff,Kyle Cheney'</li><li>'More Josh,Abc News,Josh Margolin'</li><li>'Grant Stern,Brett Bose,Natalie Dickinson'</li><li>'Tom Lobianco'</li><li>'Philip Hodges,View All Posts'</li><li>'Jack Shafer,Louis Nelson'</li><li>'Terresa Monroe-hamilton'</li><li>'Jack Shafer,Yousef Saba'</li><li>'Philip Hodges,View All Posts'</li><li>'Madeline Conway,Burgess Everett,Katie Glueck,Jack Shafer'</li><li>'Joyce Tseng,Eli Watkins'</li><li>'Jack Shafer,Louis Nelson'</li><li>'Jack Shafer,Nolan D'</li><li>'Jack Shafer,Michael Hirsh,Mikhail Zygar,Bruce Blair,Peter Edelman,Adam Walinsky'</li><li>'Terresa Monroe-hamilton'</li><li>'Eric Bradner'</li><li>'Sierra Marlee'</li><li>'Jack Shafer,Louis Nelson'</li><li>'Barbara Starr,Cnn Pentagon Correspondent'</li><li>'Latest Posts,Michael Hayne'</li><li>'Hadas Gold'</li><li>'Abc News,More Arlette'</li><li>'David Wright'</li><li>'Abc News'</li><li>'Eli Watkins'</li><li>'Hadas Gold'</li><li>'Onan Coca,View All Posts'</li><li>'Dan Merica,Eugene Scott'</li><li>'Jack Shafer,Nolan D'</li><li>'Kevin Liptak,Cnn White House Producer'</li><li>'Laura Koran'</li><li>'Jeremy Diamond'</li><li>'Jack Shafer'</li><li>'Oliver Willis'</li><li>'Latest Posts,Jameson Parker'</li><li>'Jack Shafer,Louis Nelson'</li><li>'Deirdre Walsh,Cnn Senior Congressional Producer'</li><li>'Sierra Marlee'</li><li>'Jack Shafer,Burgess Everett'</li><li>'Brianna Ehley,Jack Shafer'</li><li>'Oliver Willis'</li><li>'Philip Hodges,View All Posts'</li><li>'Nick Gass,Jack Shafer'</li><li>'John Hawkins'</li><li>'Dan Merica'</li><li>'Josh Gerstein'</li><li>'Ryan Browne'</li><li>'More Meghan,Abc News'</li><li>'Jack Shafer,Daniel Strauss'</li><li>'Josh Gerstein'</li><li>'Manu Raju,Senior Political Reporter'</li><li>'Jack Shafer,Nolan D'</li><li>'Dominique Debucquoy-dodley'</li><li>'Jack Shafer,Nolan D'</li><li>'John Couwels'</li><li>'Rika Christensen'</li><li>'Betsy Klein'</li><li>'Jack Shafer,Louis Nelson'</li><li>'Steven Shepard'</li><li>'View All Posts,Leonora Cravotta'</li><li>'Brian Stelter'</li><li>'Nick Gass,Jack Shafer'</li><li>'More Stephanie,Emily Shapiro,Jj Gallagher,Stephanie Wash,Michael Edison Hayden,Mike Levine,More Rhonda,More Emily,More Michael,Abc News'</li><li>'Jack Shafer,Louis Nelson,Matthew Nussbaum,Shane Goldmacher'</li><li>'Nick Gass,Madeline Conway,Jack Shafer'</li><li>'Kevin Liptak,Cnn White House Producer'</li><li>'Eric Bradner'</li><li>'Jack Shafer,Julia Ioffe'</li><li>'View All Posts,Jeff Dunetz'</li><li>'Edward-isaac Dovere,Eli Stokols,Politico Staff,Jack Shafer'</li><li>'Tal Kopan'</li><li>'Jack Shafer,Kyle Cheney,Daniel Strauss,Daniel Lippman,Eli Stokols,Glenn Thrush,Brent Griffiths'</li><li>'Wendy Gittleson'</li><li>'View All Posts,Tony Elliott'</li><li>'John Prager'</li><li>'Philip Hodges,View All Posts'</li><li>'Fed Up'</li><li>'View All Posts,Matt Barber'</li><li>'Crispin White'</li><li>'Bob Amoroso'</li><li>'View All Posts,Tony Elliott'</li><li>'Kevin Jackson'</li><li>'Bob Amoroso'</li><li>'Campus Reform,View All Posts'</li><li>'View All Posts,Dale Summitt'</li><li>'View All Posts,Jim Bowman'</li><li>'Elvin Bartley'</li><li>'Fed Up'</li><li>'Stephen D Foster Jr'</li><li>'Rich Witmer,Doug Giles'</li><li>'Blair Patterson'</li><li>'Wendy Gittleson'</li><li>'Blair Patterson'</li><li>'Grant Stern,Brett Bose,Natalie Dickinson'</li><li>'Colin Taylor,Grant Stern,Brett Bose,Natalie Dickinson'</li><li>'Grant Stern,Brett Bose,Natalie Dickinson'</li><li>'Grant Stern,Brett Bose,Natalie Dickinson'</li><li>'Colin Taylor,Grant Stern,Brett Bose,Natalie Dickinson'</li><li>'Grant Stern,Brett Bose,Natalie Dickinson'</li><li>'Tiffiny Ruegner'</li><li>'Terresa Monroe-hamilton'</li><li>'Cassy Fiano'</li><li>'Tiffiny Ruegner'</li><li>'Philip Hodges,View All Posts'</li><li>'Sierra Marlee'</li><li>'Mockarena Cotr'</li><li>'Sierra Marlee'</li><li>'Terresa Monroe-hamilton'</li><li>'Terresa Monroe-hamilton'</li><li>'Ryan Denson'</li><li>'Martin Lioll,John Falkenberg,Ben Marquis,Kimberly J Smith,Martin Walsh,V Saxena,Benjamin Arie'</li><li>'Scott Osborn,Terresa Monroe-hamilton,Mr Wendal,Max Jackson'</li><li>'Sierra Marlee'</li><li>'Kevin Jackson'</li><li>'Scott Osborn,Mr Wendal'</li><li>'Terresa Monroe-hamilton'</li><li>'Featured Commentator'</li><li>'Tiffiny Ruegner'</li><li>'Terresa Monroe-hamilton'</li><li>'Cassy Fiano'</li><li>'Cassy Fiano'</li><li>'Cassy Fiano'</li><li>'Terresa Monroe-hamilton'</li><li>'Martin Lioll,John Falkenberg,Ben Marquis,Kimberly J Smith,Martin Walsh,V Saxena,Benjamin Arie'</li><li>'Rich Witmer,Doug Giles'</li><li>'Lisa Smith'</li></ol>\n"
            ],
            "text/markdown": "1. 'View All Posts,Leonora Cravotta'\n2. 'More Candace,Adam Kelsey,Abc News,More Adam'\n3. 'Cassy Fiano'\n4. 'Jack Shafer,Erick Trickey,Zachary Karabell'\n5. 'John Parkinson,More John,Abc News,More Alexander'\n6. 'Cassy Fiano'\n7. 'More Veronica,Ryan Struyk,More Ryan,Meghan Keneally,More Shushannah,Abc News,More Meghan,Veronica Stracqualursi'\n8. 'More Michael,Abc News'\n9. 'Ashley Killough'\n10. 'Jack Shafer,Steven Shepard,Glenn Thrush,Nolan D,Shane Goldmacher'\n11. 'Jack Shafer,Jeff Greenfield'\n12. 'Mj Lee,Cnn National Politics Reporter'\n13. 'Jack Shafer,Politico Staff,Kyle Cheney'\n14. 'More Josh,Abc News,Josh Margolin'\n15. 'Grant Stern,Brett Bose,Natalie Dickinson'\n16. 'Tom Lobianco'\n17. 'Philip Hodges,View All Posts'\n18. 'Jack Shafer,Louis Nelson'\n19. 'Terresa Monroe-hamilton'\n20. 'Jack Shafer,Yousef Saba'\n21. 'Philip Hodges,View All Posts'\n22. 'Madeline Conway,Burgess Everett,Katie Glueck,Jack Shafer'\n23. 'Joyce Tseng,Eli Watkins'\n24. 'Jack Shafer,Louis Nelson'\n25. 'Jack Shafer,Nolan D'\n26. 'Jack Shafer,Michael Hirsh,Mikhail Zygar,Bruce Blair,Peter Edelman,Adam Walinsky'\n27. 'Terresa Monroe-hamilton'\n28. 'Eric Bradner'\n29. 'Sierra Marlee'\n30. 'Jack Shafer,Louis Nelson'\n31. 'Barbara Starr,Cnn Pentagon Correspondent'\n32. 'Latest Posts,Michael Hayne'\n33. 'Hadas Gold'\n34. 'Abc News,More Arlette'\n35. 'David Wright'\n36. 'Abc News'\n37. 'Eli Watkins'\n38. 'Hadas Gold'\n39. 'Onan Coca,View All Posts'\n40. 'Dan Merica,Eugene Scott'\n41. 'Jack Shafer,Nolan D'\n42. 'Kevin Liptak,Cnn White House Producer'\n43. 'Laura Koran'\n44. 'Jeremy Diamond'\n45. 'Jack Shafer'\n46. 'Oliver Willis'\n47. 'Latest Posts,Jameson Parker'\n48. 'Jack Shafer,Louis Nelson'\n49. 'Deirdre Walsh,Cnn Senior Congressional Producer'\n50. 'Sierra Marlee'\n51. 'Jack Shafer,Burgess Everett'\n52. 'Brianna Ehley,Jack Shafer'\n53. 'Oliver Willis'\n54. 'Philip Hodges,View All Posts'\n55. 'Nick Gass,Jack Shafer'\n56. 'John Hawkins'\n57. 'Dan Merica'\n58. 'Josh Gerstein'\n59. 'Ryan Browne'\n60. 'More Meghan,Abc News'\n61. 'Jack Shafer,Daniel Strauss'\n62. 'Josh Gerstein'\n63. 'Manu Raju,Senior Political Reporter'\n64. 'Jack Shafer,Nolan D'\n65. 'Dominique Debucquoy-dodley'\n66. 'Jack Shafer,Nolan D'\n67. 'John Couwels'\n68. 'Rika Christensen'\n69. 'Betsy Klein'\n70. 'Jack Shafer,Louis Nelson'\n71. 'Steven Shepard'\n72. 'View All Posts,Leonora Cravotta'\n73. 'Brian Stelter'\n74. 'Nick Gass,Jack Shafer'\n75. 'More Stephanie,Emily Shapiro,Jj Gallagher,Stephanie Wash,Michael Edison Hayden,Mike Levine,More Rhonda,More Emily,More Michael,Abc News'\n76. 'Jack Shafer,Louis Nelson,Matthew Nussbaum,Shane Goldmacher'\n77. 'Nick Gass,Madeline Conway,Jack Shafer'\n78. 'Kevin Liptak,Cnn White House Producer'\n79. 'Eric Bradner'\n80. 'Jack Shafer,Julia Ioffe'\n81. 'View All Posts,Jeff Dunetz'\n82. 'Edward-isaac Dovere,Eli Stokols,Politico Staff,Jack Shafer'\n83. 'Tal Kopan'\n84. 'Jack Shafer,Kyle Cheney,Daniel Strauss,Daniel Lippman,Eli Stokols,Glenn Thrush,Brent Griffiths'\n85. 'Wendy Gittleson'\n86. 'View All Posts,Tony Elliott'\n87. 'John Prager'\n88. 'Philip Hodges,View All Posts'\n89. 'Fed Up'\n90. 'View All Posts,Matt Barber'\n91. 'Crispin White'\n92. 'Bob Amoroso'\n93. 'View All Posts,Tony Elliott'\n94. 'Kevin Jackson'\n95. 'Bob Amoroso'\n96. 'Campus Reform,View All Posts'\n97. 'View All Posts,Dale Summitt'\n98. 'View All Posts,Jim Bowman'\n99. 'Elvin Bartley'\n100. 'Fed Up'\n101. 'Stephen D Foster Jr'\n102. 'Rich Witmer,Doug Giles'\n103. 'Blair Patterson'\n104. 'Wendy Gittleson'\n105. 'Blair Patterson'\n106. 'Grant Stern,Brett Bose,Natalie Dickinson'\n107. 'Colin Taylor,Grant Stern,Brett Bose,Natalie Dickinson'\n108. 'Grant Stern,Brett Bose,Natalie Dickinson'\n109. 'Grant Stern,Brett Bose,Natalie Dickinson'\n110. 'Colin Taylor,Grant Stern,Brett Bose,Natalie Dickinson'\n111. 'Grant Stern,Brett Bose,Natalie Dickinson'\n112. 'Tiffiny Ruegner'\n113. 'Terresa Monroe-hamilton'\n114. 'Cassy Fiano'\n115. 'Tiffiny Ruegner'\n116. 'Philip Hodges,View All Posts'\n117. 'Sierra Marlee'\n118. 'Mockarena Cotr'\n119. 'Sierra Marlee'\n120. 'Terresa Monroe-hamilton'\n121. 'Terresa Monroe-hamilton'\n122. 'Ryan Denson'\n123. 'Martin Lioll,John Falkenberg,Ben Marquis,Kimberly J Smith,Martin Walsh,V Saxena,Benjamin Arie'\n124. 'Scott Osborn,Terresa Monroe-hamilton,Mr Wendal,Max Jackson'\n125. 'Sierra Marlee'\n126. 'Kevin Jackson'\n127. 'Scott Osborn,Mr Wendal'\n128. 'Terresa Monroe-hamilton'\n129. 'Featured Commentator'\n130. 'Tiffiny Ruegner'\n131. 'Terresa Monroe-hamilton'\n132. 'Cassy Fiano'\n133. 'Cassy Fiano'\n134. 'Cassy Fiano'\n135. 'Terresa Monroe-hamilton'\n136. 'Martin Lioll,John Falkenberg,Ben Marquis,Kimberly J Smith,Martin Walsh,V Saxena,Benjamin Arie'\n137. 'Rich Witmer,Doug Giles'\n138. 'Lisa Smith'\n\n\n",
            "text/latex": "\\begin{enumerate*}\n\\item 'View All Posts,Leonora Cravotta'\n\\item 'More Candace,Adam Kelsey,Abc News,More Adam'\n\\item 'Cassy Fiano'\n\\item 'Jack Shafer,Erick Trickey,Zachary Karabell'\n\\item 'John Parkinson,More John,Abc News,More Alexander'\n\\item 'Cassy Fiano'\n\\item 'More Veronica,Ryan Struyk,More Ryan,Meghan Keneally,More Shushannah,Abc News,More Meghan,Veronica Stracqualursi'\n\\item 'More Michael,Abc News'\n\\item 'Ashley Killough'\n\\item 'Jack Shafer,Steven Shepard,Glenn Thrush,Nolan D,Shane Goldmacher'\n\\item 'Jack Shafer,Jeff Greenfield'\n\\item 'Mj Lee,Cnn National Politics Reporter'\n\\item 'Jack Shafer,Politico Staff,Kyle Cheney'\n\\item 'More Josh,Abc News,Josh Margolin'\n\\item 'Grant Stern,Brett Bose,Natalie Dickinson'\n\\item 'Tom Lobianco'\n\\item 'Philip Hodges,View All Posts'\n\\item 'Jack Shafer,Louis Nelson'\n\\item 'Terresa Monroe-hamilton'\n\\item 'Jack Shafer,Yousef Saba'\n\\item 'Philip Hodges,View All Posts'\n\\item 'Madeline Conway,Burgess Everett,Katie Glueck,Jack Shafer'\n\\item 'Joyce Tseng,Eli Watkins'\n\\item 'Jack Shafer,Louis Nelson'\n\\item 'Jack Shafer,Nolan D'\n\\item 'Jack Shafer,Michael Hirsh,Mikhail Zygar,Bruce Blair,Peter Edelman,Adam Walinsky'\n\\item 'Terresa Monroe-hamilton'\n\\item 'Eric Bradner'\n\\item 'Sierra Marlee'\n\\item 'Jack Shafer,Louis Nelson'\n\\item 'Barbara Starr,Cnn Pentagon Correspondent'\n\\item 'Latest Posts,Michael Hayne'\n\\item 'Hadas Gold'\n\\item 'Abc News,More Arlette'\n\\item 'David Wright'\n\\item 'Abc News'\n\\item 'Eli Watkins'\n\\item 'Hadas Gold'\n\\item 'Onan Coca,View All Posts'\n\\item 'Dan Merica,Eugene Scott'\n\\item 'Jack Shafer,Nolan D'\n\\item 'Kevin Liptak,Cnn White House Producer'\n\\item 'Laura Koran'\n\\item 'Jeremy Diamond'\n\\item 'Jack Shafer'\n\\item 'Oliver Willis'\n\\item 'Latest Posts,Jameson Parker'\n\\item 'Jack Shafer,Louis Nelson'\n\\item 'Deirdre Walsh,Cnn Senior Congressional Producer'\n\\item 'Sierra Marlee'\n\\item 'Jack Shafer,Burgess Everett'\n\\item 'Brianna Ehley,Jack Shafer'\n\\item 'Oliver Willis'\n\\item 'Philip Hodges,View All Posts'\n\\item 'Nick Gass,Jack Shafer'\n\\item 'John Hawkins'\n\\item 'Dan Merica'\n\\item 'Josh Gerstein'\n\\item 'Ryan Browne'\n\\item 'More Meghan,Abc News'\n\\item 'Jack Shafer,Daniel Strauss'\n\\item 'Josh Gerstein'\n\\item 'Manu Raju,Senior Political Reporter'\n\\item 'Jack Shafer,Nolan D'\n\\item 'Dominique Debucquoy-dodley'\n\\item 'Jack Shafer,Nolan D'\n\\item 'John Couwels'\n\\item 'Rika Christensen'\n\\item 'Betsy Klein'\n\\item 'Jack Shafer,Louis Nelson'\n\\item 'Steven Shepard'\n\\item 'View All Posts,Leonora Cravotta'\n\\item 'Brian Stelter'\n\\item 'Nick Gass,Jack Shafer'\n\\item 'More Stephanie,Emily Shapiro,Jj Gallagher,Stephanie Wash,Michael Edison Hayden,Mike Levine,More Rhonda,More Emily,More Michael,Abc News'\n\\item 'Jack Shafer,Louis Nelson,Matthew Nussbaum,Shane Goldmacher'\n\\item 'Nick Gass,Madeline Conway,Jack Shafer'\n\\item 'Kevin Liptak,Cnn White House Producer'\n\\item 'Eric Bradner'\n\\item 'Jack Shafer,Julia Ioffe'\n\\item 'View All Posts,Jeff Dunetz'\n\\item 'Edward-isaac Dovere,Eli Stokols,Politico Staff,Jack Shafer'\n\\item 'Tal Kopan'\n\\item 'Jack Shafer,Kyle Cheney,Daniel Strauss,Daniel Lippman,Eli Stokols,Glenn Thrush,Brent Griffiths'\n\\item 'Wendy Gittleson'\n\\item 'View All Posts,Tony Elliott'\n\\item 'John Prager'\n\\item 'Philip Hodges,View All Posts'\n\\item 'Fed Up'\n\\item 'View All Posts,Matt Barber'\n\\item 'Crispin White'\n\\item 'Bob Amoroso'\n\\item 'View All Posts,Tony Elliott'\n\\item 'Kevin Jackson'\n\\item 'Bob Amoroso'\n\\item 'Campus Reform,View All Posts'\n\\item 'View All Posts,Dale Summitt'\n\\item 'View All Posts,Jim Bowman'\n\\item 'Elvin Bartley'\n\\item 'Fed Up'\n\\item 'Stephen D Foster Jr'\n\\item 'Rich Witmer,Doug Giles'\n\\item 'Blair Patterson'\n\\item 'Wendy Gittleson'\n\\item 'Blair Patterson'\n\\item 'Grant Stern,Brett Bose,Natalie Dickinson'\n\\item 'Colin Taylor,Grant Stern,Brett Bose,Natalie Dickinson'\n\\item 'Grant Stern,Brett Bose,Natalie Dickinson'\n\\item 'Grant Stern,Brett Bose,Natalie Dickinson'\n\\item 'Colin Taylor,Grant Stern,Brett Bose,Natalie Dickinson'\n\\item 'Grant Stern,Brett Bose,Natalie Dickinson'\n\\item 'Tiffiny Ruegner'\n\\item 'Terresa Monroe-hamilton'\n\\item 'Cassy Fiano'\n\\item 'Tiffiny Ruegner'\n\\item 'Philip Hodges,View All Posts'\n\\item 'Sierra Marlee'\n\\item 'Mockarena Cotr'\n\\item 'Sierra Marlee'\n\\item 'Terresa Monroe-hamilton'\n\\item 'Terresa Monroe-hamilton'\n\\item 'Ryan Denson'\n\\item 'Martin Lioll,John Falkenberg,Ben Marquis,Kimberly J Smith,Martin Walsh,V Saxena,Benjamin Arie'\n\\item 'Scott Osborn,Terresa Monroe-hamilton,Mr Wendal,Max Jackson'\n\\item 'Sierra Marlee'\n\\item 'Kevin Jackson'\n\\item 'Scott Osborn,Mr Wendal'\n\\item 'Terresa Monroe-hamilton'\n\\item 'Featured Commentator'\n\\item 'Tiffiny Ruegner'\n\\item 'Terresa Monroe-hamilton'\n\\item 'Cassy Fiano'\n\\item 'Cassy Fiano'\n\\item 'Cassy Fiano'\n\\item 'Terresa Monroe-hamilton'\n\\item 'Martin Lioll,John Falkenberg,Ben Marquis,Kimberly J Smith,Martin Walsh,V Saxena,Benjamin Arie'\n\\item 'Rich Witmer,Doug Giles'\n\\item 'Lisa Smith'\n\\end{enumerate*}\n",
            "text/plain": [
              "  [1] \"View All Posts,Leonora Cravotta\"                                                                                                        \n",
              "  [2] \"More Candace,Adam Kelsey,Abc News,More Adam\"                                                                                            \n",
              "  [3] \"Cassy Fiano\"                                                                                                                            \n",
              "  [4] \"Jack Shafer,Erick Trickey,Zachary Karabell\"                                                                                             \n",
              "  [5] \"John Parkinson,More John,Abc News,More Alexander\"                                                                                       \n",
              "  [6] \"Cassy Fiano\"                                                                                                                            \n",
              "  [7] \"More Veronica,Ryan Struyk,More Ryan,Meghan Keneally,More Shushannah,Abc News,More Meghan,Veronica Stracqualursi\"                        \n",
              "  [8] \"More Michael,Abc News\"                                                                                                                  \n",
              "  [9] \"Ashley Killough\"                                                                                                                        \n",
              " [10] \"Jack Shafer,Steven Shepard,Glenn Thrush,Nolan D,Shane Goldmacher\"                                                                       \n",
              " [11] \"Jack Shafer,Jeff Greenfield\"                                                                                                            \n",
              " [12] \"Mj Lee,Cnn National Politics Reporter\"                                                                                                  \n",
              " [13] \"Jack Shafer,Politico Staff,Kyle Cheney\"                                                                                                 \n",
              " [14] \"More Josh,Abc News,Josh Margolin\"                                                                                                       \n",
              " [15] \"Grant Stern,Brett Bose,Natalie Dickinson\"                                                                                               \n",
              " [16] \"Tom Lobianco\"                                                                                                                           \n",
              " [17] \"Philip Hodges,View All Posts\"                                                                                                           \n",
              " [18] \"Jack Shafer,Louis Nelson\"                                                                                                               \n",
              " [19] \"Terresa Monroe-hamilton\"                                                                                                                \n",
              " [20] \"Jack Shafer,Yousef Saba\"                                                                                                                \n",
              " [21] \"Philip Hodges,View All Posts\"                                                                                                           \n",
              " [22] \"Madeline Conway,Burgess Everett,Katie Glueck,Jack Shafer\"                                                                               \n",
              " [23] \"Joyce Tseng,Eli Watkins\"                                                                                                                \n",
              " [24] \"Jack Shafer,Louis Nelson\"                                                                                                               \n",
              " [25] \"Jack Shafer,Nolan D\"                                                                                                                    \n",
              " [26] \"Jack Shafer,Michael Hirsh,Mikhail Zygar,Bruce Blair,Peter Edelman,Adam Walinsky\"                                                        \n",
              " [27] \"Terresa Monroe-hamilton\"                                                                                                                \n",
              " [28] \"Eric Bradner\"                                                                                                                           \n",
              " [29] \"Sierra Marlee\"                                                                                                                          \n",
              " [30] \"Jack Shafer,Louis Nelson\"                                                                                                               \n",
              " [31] \"Barbara Starr,Cnn Pentagon Correspondent\"                                                                                               \n",
              " [32] \"Latest Posts,Michael Hayne\"                                                                                                             \n",
              " [33] \"Hadas Gold\"                                                                                                                             \n",
              " [34] \"Abc News,More Arlette\"                                                                                                                  \n",
              " [35] \"David Wright\"                                                                                                                           \n",
              " [36] \"Abc News\"                                                                                                                               \n",
              " [37] \"Eli Watkins\"                                                                                                                            \n",
              " [38] \"Hadas Gold\"                                                                                                                             \n",
              " [39] \"Onan Coca,View All Posts\"                                                                                                               \n",
              " [40] \"Dan Merica,Eugene Scott\"                                                                                                                \n",
              " [41] \"Jack Shafer,Nolan D\"                                                                                                                    \n",
              " [42] \"Kevin Liptak,Cnn White House Producer\"                                                                                                  \n",
              " [43] \"Laura Koran\"                                                                                                                            \n",
              " [44] \"Jeremy Diamond\"                                                                                                                         \n",
              " [45] \"Jack Shafer\"                                                                                                                            \n",
              " [46] \"Oliver Willis\"                                                                                                                          \n",
              " [47] \"Latest Posts,Jameson Parker\"                                                                                                            \n",
              " [48] \"Jack Shafer,Louis Nelson\"                                                                                                               \n",
              " [49] \"Deirdre Walsh,Cnn Senior Congressional Producer\"                                                                                        \n",
              " [50] \"Sierra Marlee\"                                                                                                                          \n",
              " [51] \"Jack Shafer,Burgess Everett\"                                                                                                            \n",
              " [52] \"Brianna Ehley,Jack Shafer\"                                                                                                              \n",
              " [53] \"Oliver Willis\"                                                                                                                          \n",
              " [54] \"Philip Hodges,View All Posts\"                                                                                                           \n",
              " [55] \"Nick Gass,Jack Shafer\"                                                                                                                  \n",
              " [56] \"John Hawkins\"                                                                                                                           \n",
              " [57] \"Dan Merica\"                                                                                                                             \n",
              " [58] \"Josh Gerstein\"                                                                                                                          \n",
              " [59] \"Ryan Browne\"                                                                                                                            \n",
              " [60] \"More Meghan,Abc News\"                                                                                                                   \n",
              " [61] \"Jack Shafer,Daniel Strauss\"                                                                                                             \n",
              " [62] \"Josh Gerstein\"                                                                                                                          \n",
              " [63] \"Manu Raju,Senior Political Reporter\"                                                                                                    \n",
              " [64] \"Jack Shafer,Nolan D\"                                                                                                                    \n",
              " [65] \"Dominique Debucquoy-dodley\"                                                                                                             \n",
              " [66] \"Jack Shafer,Nolan D\"                                                                                                                    \n",
              " [67] \"John Couwels\"                                                                                                                           \n",
              " [68] \"Rika Christensen\"                                                                                                                       \n",
              " [69] \"Betsy Klein\"                                                                                                                            \n",
              " [70] \"Jack Shafer,Louis Nelson\"                                                                                                               \n",
              " [71] \"Steven Shepard\"                                                                                                                         \n",
              " [72] \"View All Posts,Leonora Cravotta\"                                                                                                        \n",
              " [73] \"Brian Stelter\"                                                                                                                          \n",
              " [74] \"Nick Gass,Jack Shafer\"                                                                                                                  \n",
              " [75] \"More Stephanie,Emily Shapiro,Jj Gallagher,Stephanie Wash,Michael Edison Hayden,Mike Levine,More Rhonda,More Emily,More Michael,Abc News\"\n",
              " [76] \"Jack Shafer,Louis Nelson,Matthew Nussbaum,Shane Goldmacher\"                                                                             \n",
              " [77] \"Nick Gass,Madeline Conway,Jack Shafer\"                                                                                                  \n",
              " [78] \"Kevin Liptak,Cnn White House Producer\"                                                                                                  \n",
              " [79] \"Eric Bradner\"                                                                                                                           \n",
              " [80] \"Jack Shafer,Julia Ioffe\"                                                                                                                \n",
              " [81] \"View All Posts,Jeff Dunetz\"                                                                                                             \n",
              " [82] \"Edward-isaac Dovere,Eli Stokols,Politico Staff,Jack Shafer\"                                                                             \n",
              " [83] \"Tal Kopan\"                                                                                                                              \n",
              " [84] \"Jack Shafer,Kyle Cheney,Daniel Strauss,Daniel Lippman,Eli Stokols,Glenn Thrush,Brent Griffiths\"                                         \n",
              " [85] \"Wendy Gittleson\"                                                                                                                        \n",
              " [86] \"View All Posts,Tony Elliott\"                                                                                                            \n",
              " [87] \"John Prager\"                                                                                                                            \n",
              " [88] \"Philip Hodges,View All Posts\"                                                                                                           \n",
              " [89] \"Fed Up\"                                                                                                                                 \n",
              " [90] \"View All Posts,Matt Barber\"                                                                                                             \n",
              " [91] \"Crispin White\"                                                                                                                          \n",
              " [92] \"Bob Amoroso\"                                                                                                                            \n",
              " [93] \"View All Posts,Tony Elliott\"                                                                                                            \n",
              " [94] \"Kevin Jackson\"                                                                                                                          \n",
              " [95] \"Bob Amoroso\"                                                                                                                            \n",
              " [96] \"Campus Reform,View All Posts\"                                                                                                           \n",
              " [97] \"View All Posts,Dale Summitt\"                                                                                                            \n",
              " [98] \"View All Posts,Jim Bowman\"                                                                                                              \n",
              " [99] \"Elvin Bartley\"                                                                                                                          \n",
              "[100] \"Fed Up\"                                                                                                                                 \n",
              "[101] \"Stephen D Foster Jr\"                                                                                                                    \n",
              "[102] \"Rich Witmer,Doug Giles\"                                                                                                                 \n",
              "[103] \"Blair Patterson\"                                                                                                                        \n",
              "[104] \"Wendy Gittleson\"                                                                                                                        \n",
              "[105] \"Blair Patterson\"                                                                                                                        \n",
              "[106] \"Grant Stern,Brett Bose,Natalie Dickinson\"                                                                                               \n",
              "[107] \"Colin Taylor,Grant Stern,Brett Bose,Natalie Dickinson\"                                                                                  \n",
              "[108] \"Grant Stern,Brett Bose,Natalie Dickinson\"                                                                                               \n",
              "[109] \"Grant Stern,Brett Bose,Natalie Dickinson\"                                                                                               \n",
              "[110] \"Colin Taylor,Grant Stern,Brett Bose,Natalie Dickinson\"                                                                                  \n",
              "[111] \"Grant Stern,Brett Bose,Natalie Dickinson\"                                                                                               \n",
              "[112] \"Tiffiny Ruegner\"                                                                                                                        \n",
              "[113] \"Terresa Monroe-hamilton\"                                                                                                                \n",
              "[114] \"Cassy Fiano\"                                                                                                                            \n",
              "[115] \"Tiffiny Ruegner\"                                                                                                                        \n",
              "[116] \"Philip Hodges,View All Posts\"                                                                                                           \n",
              "[117] \"Sierra Marlee\"                                                                                                                          \n",
              "[118] \"Mockarena Cotr\"                                                                                                                         \n",
              "[119] \"Sierra Marlee\"                                                                                                                          \n",
              "[120] \"Terresa Monroe-hamilton\"                                                                                                                \n",
              "[121] \"Terresa Monroe-hamilton\"                                                                                                                \n",
              "[122] \"Ryan Denson\"                                                                                                                            \n",
              "[123] \"Martin Lioll,John Falkenberg,Ben Marquis,Kimberly J Smith,Martin Walsh,V Saxena,Benjamin Arie\"                                          \n",
              "[124] \"Scott Osborn,Terresa Monroe-hamilton,Mr Wendal,Max Jackson\"                                                                             \n",
              "[125] \"Sierra Marlee\"                                                                                                                          \n",
              "[126] \"Kevin Jackson\"                                                                                                                          \n",
              "[127] \"Scott Osborn,Mr Wendal\"                                                                                                                 \n",
              "[128] \"Terresa Monroe-hamilton\"                                                                                                                \n",
              "[129] \"Featured Commentator\"                                                                                                                   \n",
              "[130] \"Tiffiny Ruegner\"                                                                                                                        \n",
              "[131] \"Terresa Monroe-hamilton\"                                                                                                                \n",
              "[132] \"Cassy Fiano\"                                                                                                                            \n",
              "[133] \"Cassy Fiano\"                                                                                                                            \n",
              "[134] \"Cassy Fiano\"                                                                                                                            \n",
              "[135] \"Terresa Monroe-hamilton\"                                                                                                                \n",
              "[136] \"Martin Lioll,John Falkenberg,Ben Marquis,Kimberly J Smith,Martin Walsh,V Saxena,Benjamin Arie\"                                          \n",
              "[137] \"Rich Witmer,Doug Giles\"                                                                                                                 \n",
              "[138] \"Lisa Smith\"                                                                                                                             "
            ]
          },
          "metadata": {}
        }
      ]
    },
    {
      "cell_type": "code",
      "source": [
        "# Extract the first author from the authors column\n",
        "buzzfeed_data$first_author <- sapply(strsplit(as.character(buzzfeed_data$authors), \",\"), function(x) {\n",
        "  x <- trimws(x)                    # remove extra spaces\n",
        "  x <- x[x != \"View All Posts\"]     # remove \"View All Posts\"\n",
        "  if (length(x) > 0) x[1] else NA   # return first valid name or NA\n",
        "})\n"
      ],
      "metadata": {
        "id": "yKfzcNSA5Kdn"
      },
      "execution_count": 138,
      "outputs": []
    },
    {
      "cell_type": "code",
      "source": [
        "buzzfeed_data$first_author"
      ],
      "metadata": {
        "colab": {
          "base_uri": "https://localhost:8080/",
          "height": 382
        },
        "id": "6bnPbFSK5M2Y",
        "outputId": "bdec5b4c-868a-4e49-cf3a-c0aae08ca929"
      },
      "execution_count": 139,
      "outputs": [
        {
          "output_type": "display_data",
          "data": {
            "text/html": [
              "<style>\n",
              ".list-inline {list-style: none; margin:0; padding: 0}\n",
              ".list-inline>li {display: inline-block}\n",
              ".list-inline>li:not(:last-child)::after {content: \"\\00b7\"; padding: 0 .5ex}\n",
              "</style>\n",
              "<ol class=list-inline><li>'Leonora Cravotta'</li><li>'More Candace'</li><li>'Cassy Fiano'</li><li>'Jack Shafer'</li><li>'John Parkinson'</li><li>'Cassy Fiano'</li><li>'More Veronica'</li><li>'More Michael'</li><li>'Ashley Killough'</li><li>'Jack Shafer'</li><li>'Jack Shafer'</li><li>'Mj Lee'</li><li>'Jack Shafer'</li><li>'More Josh'</li><li>'Grant Stern'</li><li>'Tom Lobianco'</li><li>'Philip Hodges'</li><li>'Jack Shafer'</li><li>'Terresa Monroe-hamilton'</li><li>'Jack Shafer'</li><li>'Philip Hodges'</li><li>'Madeline Conway'</li><li>'Joyce Tseng'</li><li>'Jack Shafer'</li><li>'Jack Shafer'</li><li>'Jack Shafer'</li><li>'Terresa Monroe-hamilton'</li><li>'Eric Bradner'</li><li>'Sierra Marlee'</li><li>'Jack Shafer'</li><li>'Barbara Starr'</li><li>'Latest Posts'</li><li>'Hadas Gold'</li><li>'Abc News'</li><li>'David Wright'</li><li>'Abc News'</li><li>'Eli Watkins'</li><li>'Hadas Gold'</li><li>'Onan Coca'</li><li>'Dan Merica'</li><li>'Jack Shafer'</li><li>'Kevin Liptak'</li><li>'Laura Koran'</li><li>'Jeremy Diamond'</li><li>'Jack Shafer'</li><li>'Oliver Willis'</li><li>'Latest Posts'</li><li>'Jack Shafer'</li><li>'Deirdre Walsh'</li><li>'Sierra Marlee'</li><li>'Jack Shafer'</li><li>'Brianna Ehley'</li><li>'Oliver Willis'</li><li>'Philip Hodges'</li><li>'Nick Gass'</li><li>'John Hawkins'</li><li>'Dan Merica'</li><li>'Josh Gerstein'</li><li>'Ryan Browne'</li><li>'More Meghan'</li><li>'Jack Shafer'</li><li>'Josh Gerstein'</li><li>'Manu Raju'</li><li>'Jack Shafer'</li><li>'Dominique Debucquoy-dodley'</li><li>'Jack Shafer'</li><li>'John Couwels'</li><li>'Rika Christensen'</li><li>'Betsy Klein'</li><li>'Jack Shafer'</li><li>'Steven Shepard'</li><li>'Leonora Cravotta'</li><li>'Brian Stelter'</li><li>'Nick Gass'</li><li>'More Stephanie'</li><li>'Jack Shafer'</li><li>'Nick Gass'</li><li>'Kevin Liptak'</li><li>'Eric Bradner'</li><li>'Jack Shafer'</li><li>'Jeff Dunetz'</li><li>'Edward-isaac Dovere'</li><li>'Tal Kopan'</li><li>'Jack Shafer'</li><li>'Wendy Gittleson'</li><li>'Tony Elliott'</li><li>'John Prager'</li><li>'Philip Hodges'</li><li>'Fed Up'</li><li>'Matt Barber'</li><li>'Crispin White'</li><li>'Bob Amoroso'</li><li>'Tony Elliott'</li><li>'Kevin Jackson'</li><li>'Bob Amoroso'</li><li>'Campus Reform'</li><li>'Dale Summitt'</li><li>'Jim Bowman'</li><li>'Elvin Bartley'</li><li>'Fed Up'</li><li>'Stephen D Foster Jr'</li><li>'Rich Witmer'</li><li>'Blair Patterson'</li><li>'Wendy Gittleson'</li><li>'Blair Patterson'</li><li>'Grant Stern'</li><li>'Colin Taylor'</li><li>'Grant Stern'</li><li>'Grant Stern'</li><li>'Colin Taylor'</li><li>'Grant Stern'</li><li>'Tiffiny Ruegner'</li><li>'Terresa Monroe-hamilton'</li><li>'Cassy Fiano'</li><li>'Tiffiny Ruegner'</li><li>'Philip Hodges'</li><li>'Sierra Marlee'</li><li>'Mockarena Cotr'</li><li>'Sierra Marlee'</li><li>'Terresa Monroe-hamilton'</li><li>'Terresa Monroe-hamilton'</li><li>'Ryan Denson'</li><li>'Martin Lioll'</li><li>'Scott Osborn'</li><li>'Sierra Marlee'</li><li>'Kevin Jackson'</li><li>'Scott Osborn'</li><li>'Terresa Monroe-hamilton'</li><li>'Featured Commentator'</li><li>'Tiffiny Ruegner'</li><li>'Terresa Monroe-hamilton'</li><li>'Cassy Fiano'</li><li>'Cassy Fiano'</li><li>'Cassy Fiano'</li><li>'Terresa Monroe-hamilton'</li><li>'Martin Lioll'</li><li>'Rich Witmer'</li><li>'Lisa Smith'</li></ol>\n"
            ],
            "text/markdown": "1. 'Leonora Cravotta'\n2. 'More Candace'\n3. 'Cassy Fiano'\n4. 'Jack Shafer'\n5. 'John Parkinson'\n6. 'Cassy Fiano'\n7. 'More Veronica'\n8. 'More Michael'\n9. 'Ashley Killough'\n10. 'Jack Shafer'\n11. 'Jack Shafer'\n12. 'Mj Lee'\n13. 'Jack Shafer'\n14. 'More Josh'\n15. 'Grant Stern'\n16. 'Tom Lobianco'\n17. 'Philip Hodges'\n18. 'Jack Shafer'\n19. 'Terresa Monroe-hamilton'\n20. 'Jack Shafer'\n21. 'Philip Hodges'\n22. 'Madeline Conway'\n23. 'Joyce Tseng'\n24. 'Jack Shafer'\n25. 'Jack Shafer'\n26. 'Jack Shafer'\n27. 'Terresa Monroe-hamilton'\n28. 'Eric Bradner'\n29. 'Sierra Marlee'\n30. 'Jack Shafer'\n31. 'Barbara Starr'\n32. 'Latest Posts'\n33. 'Hadas Gold'\n34. 'Abc News'\n35. 'David Wright'\n36. 'Abc News'\n37. 'Eli Watkins'\n38. 'Hadas Gold'\n39. 'Onan Coca'\n40. 'Dan Merica'\n41. 'Jack Shafer'\n42. 'Kevin Liptak'\n43. 'Laura Koran'\n44. 'Jeremy Diamond'\n45. 'Jack Shafer'\n46. 'Oliver Willis'\n47. 'Latest Posts'\n48. 'Jack Shafer'\n49. 'Deirdre Walsh'\n50. 'Sierra Marlee'\n51. 'Jack Shafer'\n52. 'Brianna Ehley'\n53. 'Oliver Willis'\n54. 'Philip Hodges'\n55. 'Nick Gass'\n56. 'John Hawkins'\n57. 'Dan Merica'\n58. 'Josh Gerstein'\n59. 'Ryan Browne'\n60. 'More Meghan'\n61. 'Jack Shafer'\n62. 'Josh Gerstein'\n63. 'Manu Raju'\n64. 'Jack Shafer'\n65. 'Dominique Debucquoy-dodley'\n66. 'Jack Shafer'\n67. 'John Couwels'\n68. 'Rika Christensen'\n69. 'Betsy Klein'\n70. 'Jack Shafer'\n71. 'Steven Shepard'\n72. 'Leonora Cravotta'\n73. 'Brian Stelter'\n74. 'Nick Gass'\n75. 'More Stephanie'\n76. 'Jack Shafer'\n77. 'Nick Gass'\n78. 'Kevin Liptak'\n79. 'Eric Bradner'\n80. 'Jack Shafer'\n81. 'Jeff Dunetz'\n82. 'Edward-isaac Dovere'\n83. 'Tal Kopan'\n84. 'Jack Shafer'\n85. 'Wendy Gittleson'\n86. 'Tony Elliott'\n87. 'John Prager'\n88. 'Philip Hodges'\n89. 'Fed Up'\n90. 'Matt Barber'\n91. 'Crispin White'\n92. 'Bob Amoroso'\n93. 'Tony Elliott'\n94. 'Kevin Jackson'\n95. 'Bob Amoroso'\n96. 'Campus Reform'\n97. 'Dale Summitt'\n98. 'Jim Bowman'\n99. 'Elvin Bartley'\n100. 'Fed Up'\n101. 'Stephen D Foster Jr'\n102. 'Rich Witmer'\n103. 'Blair Patterson'\n104. 'Wendy Gittleson'\n105. 'Blair Patterson'\n106. 'Grant Stern'\n107. 'Colin Taylor'\n108. 'Grant Stern'\n109. 'Grant Stern'\n110. 'Colin Taylor'\n111. 'Grant Stern'\n112. 'Tiffiny Ruegner'\n113. 'Terresa Monroe-hamilton'\n114. 'Cassy Fiano'\n115. 'Tiffiny Ruegner'\n116. 'Philip Hodges'\n117. 'Sierra Marlee'\n118. 'Mockarena Cotr'\n119. 'Sierra Marlee'\n120. 'Terresa Monroe-hamilton'\n121. 'Terresa Monroe-hamilton'\n122. 'Ryan Denson'\n123. 'Martin Lioll'\n124. 'Scott Osborn'\n125. 'Sierra Marlee'\n126. 'Kevin Jackson'\n127. 'Scott Osborn'\n128. 'Terresa Monroe-hamilton'\n129. 'Featured Commentator'\n130. 'Tiffiny Ruegner'\n131. 'Terresa Monroe-hamilton'\n132. 'Cassy Fiano'\n133. 'Cassy Fiano'\n134. 'Cassy Fiano'\n135. 'Terresa Monroe-hamilton'\n136. 'Martin Lioll'\n137. 'Rich Witmer'\n138. 'Lisa Smith'\n\n\n",
            "text/latex": "\\begin{enumerate*}\n\\item 'Leonora Cravotta'\n\\item 'More Candace'\n\\item 'Cassy Fiano'\n\\item 'Jack Shafer'\n\\item 'John Parkinson'\n\\item 'Cassy Fiano'\n\\item 'More Veronica'\n\\item 'More Michael'\n\\item 'Ashley Killough'\n\\item 'Jack Shafer'\n\\item 'Jack Shafer'\n\\item 'Mj Lee'\n\\item 'Jack Shafer'\n\\item 'More Josh'\n\\item 'Grant Stern'\n\\item 'Tom Lobianco'\n\\item 'Philip Hodges'\n\\item 'Jack Shafer'\n\\item 'Terresa Monroe-hamilton'\n\\item 'Jack Shafer'\n\\item 'Philip Hodges'\n\\item 'Madeline Conway'\n\\item 'Joyce Tseng'\n\\item 'Jack Shafer'\n\\item 'Jack Shafer'\n\\item 'Jack Shafer'\n\\item 'Terresa Monroe-hamilton'\n\\item 'Eric Bradner'\n\\item 'Sierra Marlee'\n\\item 'Jack Shafer'\n\\item 'Barbara Starr'\n\\item 'Latest Posts'\n\\item 'Hadas Gold'\n\\item 'Abc News'\n\\item 'David Wright'\n\\item 'Abc News'\n\\item 'Eli Watkins'\n\\item 'Hadas Gold'\n\\item 'Onan Coca'\n\\item 'Dan Merica'\n\\item 'Jack Shafer'\n\\item 'Kevin Liptak'\n\\item 'Laura Koran'\n\\item 'Jeremy Diamond'\n\\item 'Jack Shafer'\n\\item 'Oliver Willis'\n\\item 'Latest Posts'\n\\item 'Jack Shafer'\n\\item 'Deirdre Walsh'\n\\item 'Sierra Marlee'\n\\item 'Jack Shafer'\n\\item 'Brianna Ehley'\n\\item 'Oliver Willis'\n\\item 'Philip Hodges'\n\\item 'Nick Gass'\n\\item 'John Hawkins'\n\\item 'Dan Merica'\n\\item 'Josh Gerstein'\n\\item 'Ryan Browne'\n\\item 'More Meghan'\n\\item 'Jack Shafer'\n\\item 'Josh Gerstein'\n\\item 'Manu Raju'\n\\item 'Jack Shafer'\n\\item 'Dominique Debucquoy-dodley'\n\\item 'Jack Shafer'\n\\item 'John Couwels'\n\\item 'Rika Christensen'\n\\item 'Betsy Klein'\n\\item 'Jack Shafer'\n\\item 'Steven Shepard'\n\\item 'Leonora Cravotta'\n\\item 'Brian Stelter'\n\\item 'Nick Gass'\n\\item 'More Stephanie'\n\\item 'Jack Shafer'\n\\item 'Nick Gass'\n\\item 'Kevin Liptak'\n\\item 'Eric Bradner'\n\\item 'Jack Shafer'\n\\item 'Jeff Dunetz'\n\\item 'Edward-isaac Dovere'\n\\item 'Tal Kopan'\n\\item 'Jack Shafer'\n\\item 'Wendy Gittleson'\n\\item 'Tony Elliott'\n\\item 'John Prager'\n\\item 'Philip Hodges'\n\\item 'Fed Up'\n\\item 'Matt Barber'\n\\item 'Crispin White'\n\\item 'Bob Amoroso'\n\\item 'Tony Elliott'\n\\item 'Kevin Jackson'\n\\item 'Bob Amoroso'\n\\item 'Campus Reform'\n\\item 'Dale Summitt'\n\\item 'Jim Bowman'\n\\item 'Elvin Bartley'\n\\item 'Fed Up'\n\\item 'Stephen D Foster Jr'\n\\item 'Rich Witmer'\n\\item 'Blair Patterson'\n\\item 'Wendy Gittleson'\n\\item 'Blair Patterson'\n\\item 'Grant Stern'\n\\item 'Colin Taylor'\n\\item 'Grant Stern'\n\\item 'Grant Stern'\n\\item 'Colin Taylor'\n\\item 'Grant Stern'\n\\item 'Tiffiny Ruegner'\n\\item 'Terresa Monroe-hamilton'\n\\item 'Cassy Fiano'\n\\item 'Tiffiny Ruegner'\n\\item 'Philip Hodges'\n\\item 'Sierra Marlee'\n\\item 'Mockarena Cotr'\n\\item 'Sierra Marlee'\n\\item 'Terresa Monroe-hamilton'\n\\item 'Terresa Monroe-hamilton'\n\\item 'Ryan Denson'\n\\item 'Martin Lioll'\n\\item 'Scott Osborn'\n\\item 'Sierra Marlee'\n\\item 'Kevin Jackson'\n\\item 'Scott Osborn'\n\\item 'Terresa Monroe-hamilton'\n\\item 'Featured Commentator'\n\\item 'Tiffiny Ruegner'\n\\item 'Terresa Monroe-hamilton'\n\\item 'Cassy Fiano'\n\\item 'Cassy Fiano'\n\\item 'Cassy Fiano'\n\\item 'Terresa Monroe-hamilton'\n\\item 'Martin Lioll'\n\\item 'Rich Witmer'\n\\item 'Lisa Smith'\n\\end{enumerate*}\n",
            "text/plain": [
              "  [1] \"Leonora Cravotta\"           \"More Candace\"              \n",
              "  [3] \"Cassy Fiano\"                \"Jack Shafer\"               \n",
              "  [5] \"John Parkinson\"             \"Cassy Fiano\"               \n",
              "  [7] \"More Veronica\"              \"More Michael\"              \n",
              "  [9] \"Ashley Killough\"            \"Jack Shafer\"               \n",
              " [11] \"Jack Shafer\"                \"Mj Lee\"                    \n",
              " [13] \"Jack Shafer\"                \"More Josh\"                 \n",
              " [15] \"Grant Stern\"                \"Tom Lobianco\"              \n",
              " [17] \"Philip Hodges\"              \"Jack Shafer\"               \n",
              " [19] \"Terresa Monroe-hamilton\"    \"Jack Shafer\"               \n",
              " [21] \"Philip Hodges\"              \"Madeline Conway\"           \n",
              " [23] \"Joyce Tseng\"                \"Jack Shafer\"               \n",
              " [25] \"Jack Shafer\"                \"Jack Shafer\"               \n",
              " [27] \"Terresa Monroe-hamilton\"    \"Eric Bradner\"              \n",
              " [29] \"Sierra Marlee\"              \"Jack Shafer\"               \n",
              " [31] \"Barbara Starr\"              \"Latest Posts\"              \n",
              " [33] \"Hadas Gold\"                 \"Abc News\"                  \n",
              " [35] \"David Wright\"               \"Abc News\"                  \n",
              " [37] \"Eli Watkins\"                \"Hadas Gold\"                \n",
              " [39] \"Onan Coca\"                  \"Dan Merica\"                \n",
              " [41] \"Jack Shafer\"                \"Kevin Liptak\"              \n",
              " [43] \"Laura Koran\"                \"Jeremy Diamond\"            \n",
              " [45] \"Jack Shafer\"                \"Oliver Willis\"             \n",
              " [47] \"Latest Posts\"               \"Jack Shafer\"               \n",
              " [49] \"Deirdre Walsh\"              \"Sierra Marlee\"             \n",
              " [51] \"Jack Shafer\"                \"Brianna Ehley\"             \n",
              " [53] \"Oliver Willis\"              \"Philip Hodges\"             \n",
              " [55] \"Nick Gass\"                  \"John Hawkins\"              \n",
              " [57] \"Dan Merica\"                 \"Josh Gerstein\"             \n",
              " [59] \"Ryan Browne\"                \"More Meghan\"               \n",
              " [61] \"Jack Shafer\"                \"Josh Gerstein\"             \n",
              " [63] \"Manu Raju\"                  \"Jack Shafer\"               \n",
              " [65] \"Dominique Debucquoy-dodley\" \"Jack Shafer\"               \n",
              " [67] \"John Couwels\"               \"Rika Christensen\"          \n",
              " [69] \"Betsy Klein\"                \"Jack Shafer\"               \n",
              " [71] \"Steven Shepard\"             \"Leonora Cravotta\"          \n",
              " [73] \"Brian Stelter\"              \"Nick Gass\"                 \n",
              " [75] \"More Stephanie\"             \"Jack Shafer\"               \n",
              " [77] \"Nick Gass\"                  \"Kevin Liptak\"              \n",
              " [79] \"Eric Bradner\"               \"Jack Shafer\"               \n",
              " [81] \"Jeff Dunetz\"                \"Edward-isaac Dovere\"       \n",
              " [83] \"Tal Kopan\"                  \"Jack Shafer\"               \n",
              " [85] \"Wendy Gittleson\"            \"Tony Elliott\"              \n",
              " [87] \"John Prager\"                \"Philip Hodges\"             \n",
              " [89] \"Fed Up\"                     \"Matt Barber\"               \n",
              " [91] \"Crispin White\"              \"Bob Amoroso\"               \n",
              " [93] \"Tony Elliott\"               \"Kevin Jackson\"             \n",
              " [95] \"Bob Amoroso\"                \"Campus Reform\"             \n",
              " [97] \"Dale Summitt\"               \"Jim Bowman\"                \n",
              " [99] \"Elvin Bartley\"              \"Fed Up\"                    \n",
              "[101] \"Stephen D Foster Jr\"        \"Rich Witmer\"               \n",
              "[103] \"Blair Patterson\"            \"Wendy Gittleson\"           \n",
              "[105] \"Blair Patterson\"            \"Grant Stern\"               \n",
              "[107] \"Colin Taylor\"               \"Grant Stern\"               \n",
              "[109] \"Grant Stern\"                \"Colin Taylor\"              \n",
              "[111] \"Grant Stern\"                \"Tiffiny Ruegner\"           \n",
              "[113] \"Terresa Monroe-hamilton\"    \"Cassy Fiano\"               \n",
              "[115] \"Tiffiny Ruegner\"            \"Philip Hodges\"             \n",
              "[117] \"Sierra Marlee\"              \"Mockarena Cotr\"            \n",
              "[119] \"Sierra Marlee\"              \"Terresa Monroe-hamilton\"   \n",
              "[121] \"Terresa Monroe-hamilton\"    \"Ryan Denson\"               \n",
              "[123] \"Martin Lioll\"               \"Scott Osborn\"              \n",
              "[125] \"Sierra Marlee\"              \"Kevin Jackson\"             \n",
              "[127] \"Scott Osborn\"               \"Terresa Monroe-hamilton\"   \n",
              "[129] \"Featured Commentator\"       \"Tiffiny Ruegner\"           \n",
              "[131] \"Terresa Monroe-hamilton\"    \"Cassy Fiano\"               \n",
              "[133] \"Cassy Fiano\"                \"Cassy Fiano\"               \n",
              "[135] \"Terresa Monroe-hamilton\"    \"Martin Lioll\"              \n",
              "[137] \"Rich Witmer\"                \"Lisa Smith\"                "
            ]
          },
          "metadata": {}
        }
      ]
    },
    {
      "cell_type": "code",
      "source": [
        "# Convert categorical variables to factors\n",
        "buzzfeed_data$first_author <- as.factor(buzzfeed_data$first_author)\n"
      ],
      "metadata": {
        "id": "762-Yefc2dX8"
      },
      "execution_count": 141,
      "outputs": []
    },
    {
      "cell_type": "code",
      "source": [
        "nrow(df)\n",
        "nrow(df_drop)\n",
        "nrow(df_dropna)\n",
        "nrow(buzzfeed_data)\n"
      ],
      "metadata": {
        "colab": {
          "base_uri": "https://localhost:8080/",
          "height": 86
        },
        "id": "kXKVDCE4CznU",
        "outputId": "5aa2d8ac-e75b-46d6-df0f-2cad6ee113b6"
      },
      "execution_count": 142,
      "outputs": [
        {
          "output_type": "display_data",
          "data": {
            "text/html": [
              "182"
            ],
            "text/markdown": "182",
            "text/latex": "182",
            "text/plain": [
              "[1] 182"
            ]
          },
          "metadata": {}
        },
        {
          "output_type": "display_data",
          "data": {
            "text/html": [
              "182"
            ],
            "text/markdown": "182",
            "text/latex": "182",
            "text/plain": [
              "[1] 182"
            ]
          },
          "metadata": {}
        },
        {
          "output_type": "display_data",
          "data": {
            "text/html": [
              "138"
            ],
            "text/markdown": "138",
            "text/latex": "138",
            "text/plain": [
              "[1] 138"
            ]
          },
          "metadata": {}
        },
        {
          "output_type": "display_data",
          "data": {
            "text/html": [
              "138"
            ],
            "text/markdown": "138",
            "text/latex": "138",
            "text/plain": [
              "[1] 138"
            ]
          },
          "metadata": {}
        }
      ]
    },
    {
      "cell_type": "code",
      "source": [
        "# Fit full model\n",
        "model_full <- glm(real_fake ~ ., data = df_drop %>% select(real_fake, starts_with(\"word_\")), family = binomial)\n",
        "summary(model_full)"
      ],
      "metadata": {
        "colab": {
          "base_uri": "https://localhost:8080/",
          "height": 874
        },
        "id": "CioHgHrYx-xG",
        "outputId": "8e396123-ee74-48db-a99d-3be6530942bd"
      },
      "execution_count": 145,
      "outputs": [
        {
          "output_type": "display_data",
          "data": {
            "text/plain": [
              "\n",
              "Call:\n",
              "glm(formula = real_fake ~ ., family = binomial, data = df_drop %>% \n",
              "    select(real_fake, starts_with(\"word_\")))\n",
              "\n",
              "Coefficients:\n",
              "                   Estimate Std. Error z value Pr(>|z|)   \n",
              "(Intercept)        0.440460   0.327169   1.346  0.17821   \n",
              "word_hillary       0.266105   0.089689   2.967  0.00301 **\n",
              "word_president    -0.064753   0.157755  -0.410  0.68147   \n",
              "word_debate       -0.166217   0.121317  -1.370  0.17065   \n",
              "word_obama         0.017436   0.103830   0.168  0.86664   \n",
              "word_police       -0.038328   0.135362  -0.283  0.77706   \n",
              "word_because       0.489868   0.243744   2.010  0.04446 * \n",
              "word_american     -0.116989   0.358935  -0.326  0.74447   \n",
              "word_presidential -0.248344   0.365377  -0.680  0.49670   \n",
              "word_before       -0.080731   0.243101  -0.332  0.73982   \n",
              "word_america       0.009173   0.188798   0.049  0.96125   \n",
              "word_election     -0.149069   0.195227  -0.764  0.44512   \n",
              "word_republican    0.222320   0.158252   1.405  0.16007   \n",
              "word_foundation    0.194467   0.124447   1.563  0.11813   \n",
              "word_according    -0.118416   0.254539  -0.465  0.64177   \n",
              "word_every        -0.159901   0.208705  -0.766  0.44358   \n",
              "word_september    -0.277283   0.226894  -1.222  0.22168   \n",
              "word_united       -0.147672   0.224656  -0.657  0.51097   \n",
              "word_another      -0.141246   0.316099  -0.447  0.65499   \n",
              "word_political    -0.006208   0.322731  -0.019  0.98465   \n",
              "word_candidate    -0.210932   0.285561  -0.739  0.46011   \n",
              "word_americans     0.206327   0.377521   0.547  0.58470   \n",
              "word_national     -0.148936   0.238394  -0.625  0.53214   \n",
              "word_charlotte     0.012825   0.149919   0.086  0.93183   \n",
              "word_democratic    0.384992   0.342935   1.123  0.26159   \n",
              "word_policy       -0.170747   0.424574  -0.402  0.68757   \n",
              "word_something     0.237028   0.393315   0.603  0.54675   \n",
              "word_washington   -0.554039   0.376453  -1.472  0.14109   \n",
              "word_nominee      -0.913919   0.450750  -2.028  0.04261 * \n",
              "word_security     -0.094380   0.171247  -0.551  0.58154   \n",
              "word_federal      -0.095249   0.118152  -0.806  0.42015   \n",
              "---\n",
              "Signif. codes:  0 ‘***’ 0.001 ‘**’ 0.01 ‘*’ 0.05 ‘.’ 0.1 ‘ ’ 1\n",
              "\n",
              "(Dispersion parameter for binomial family taken to be 1)\n",
              "\n",
              "    Null deviance: 252.31  on 181  degrees of freedom\n",
              "Residual deviance: 195.77  on 151  degrees of freedom\n",
              "AIC: 257.77\n",
              "\n",
              "Number of Fisher Scoring iterations: 6\n"
            ]
          },
          "metadata": {}
        }
      ]
    },
    {
      "cell_type": "markdown",
      "source": [
        "Use stepwise selection based on AIC"
      ],
      "metadata": {
        "id": "V3el_-aozUFl"
      }
    },
    {
      "cell_type": "code",
      "source": [
        "# Variable Selection (Best Subset)\n",
        "# Perform stepwise selection silently\n",
        "suppressMessages({\n",
        "  model_best <- step(model_full, direction = \"both\", trace = 0)\n",
        "})\n",
        "\n",
        "# Show summary of the best model\n",
        "summary(model_best)"
      ],
      "metadata": {
        "colab": {
          "base_uri": "https://localhost:8080/",
          "height": 481
        },
        "id": "K1O8Gh8jzOMb",
        "outputId": "0a486011-3be4-46ab-d923-95a6287e6818"
      },
      "execution_count": 146,
      "outputs": [
        {
          "output_type": "display_data",
          "data": {
            "text/plain": [
              "\n",
              "Call:\n",
              "glm(formula = real_fake ~ word_hillary + word_because + word_foundation + \n",
              "    word_september + word_candidate + word_washington + word_nominee, \n",
              "    family = binomial, data = df_drop %>% select(real_fake, starts_with(\"word_\")))\n",
              "\n",
              "Coefficients:\n",
              "                 Estimate Std. Error z value Pr(>|z|)   \n",
              "(Intercept)      0.002078   0.232369   0.009  0.99287   \n",
              "word_hillary     0.245275   0.079848   3.072  0.00213 **\n",
              "word_because     0.419138   0.205564   2.039  0.04145 * \n",
              "word_foundation  0.204499   0.122965   1.663  0.09630 . \n",
              "word_september  -0.378342   0.199557  -1.896  0.05797 . \n",
              "word_candidate  -0.491847   0.208352  -2.361  0.01824 * \n",
              "word_washington -0.469565   0.312426  -1.503  0.13285   \n",
              "word_nominee    -0.774788   0.347108  -2.232  0.02561 * \n",
              "---\n",
              "Signif. codes:  0 ‘***’ 0.001 ‘**’ 0.01 ‘*’ 0.05 ‘.’ 0.1 ‘ ’ 1\n",
              "\n",
              "(Dispersion parameter for binomial family taken to be 1)\n",
              "\n",
              "    Null deviance: 252.31  on 181  degrees of freedom\n",
              "Residual deviance: 207.09  on 174  degrees of freedom\n",
              "AIC: 223.09\n",
              "\n",
              "Number of Fisher Scoring iterations: 5\n"
            ]
          },
          "metadata": {}
        }
      ]
    },
    {
      "cell_type": "code",
      "source": [
        "# Likelihood ratio test\n",
        "anova(model_best, test = \"Chisq\")\n"
      ],
      "metadata": {
        "colab": {
          "base_uri": "https://localhost:8080/",
          "height": 349
        },
        "id": "nqbMp81Iznf6",
        "outputId": "f1047b08-057d-4ce2-f527-85b83a67825c"
      },
      "execution_count": 147,
      "outputs": [
        {
          "output_type": "display_data",
          "data": {
            "text/html": [
              "<table class=\"dataframe\">\n",
              "<caption>A anova: 8 × 5</caption>\n",
              "<thead>\n",
              "\t<tr><th></th><th scope=col>Df</th><th scope=col>Deviance</th><th scope=col>Resid. Df</th><th scope=col>Resid. Dev</th><th scope=col>Pr(&gt;Chi)</th></tr>\n",
              "\t<tr><th></th><th scope=col>&lt;int&gt;</th><th scope=col>&lt;dbl&gt;</th><th scope=col>&lt;int&gt;</th><th scope=col>&lt;dbl&gt;</th><th scope=col>&lt;dbl&gt;</th></tr>\n",
              "</thead>\n",
              "<tbody>\n",
              "\t<tr><th scope=row>NULL</th><td>NA</td><td>         NA</td><td>181</td><td>252.3056</td><td>          NA</td></tr>\n",
              "\t<tr><th scope=row>word_hillary</th><td> 1</td><td> 7.96336248</td><td>180</td><td>244.3422</td><td>4.773366e-03</td></tr>\n",
              "\t<tr><th scope=row>word_because</th><td> 1</td><td> 0.01252443</td><td>179</td><td>244.3297</td><td>9.108927e-01</td></tr>\n",
              "\t<tr><th scope=row>word_foundation</th><td> 1</td><td> 2.94322715</td><td>178</td><td>241.3865</td><td>8.623828e-02</td></tr>\n",
              "\t<tr><th scope=row>word_september</th><td> 1</td><td> 5.84732907</td><td>177</td><td>235.5391</td><td>1.560071e-02</td></tr>\n",
              "\t<tr><th scope=row>word_candidate</th><td> 1</td><td>18.95119001</td><td>176</td><td>216.5879</td><td>1.341056e-05</td></tr>\n",
              "\t<tr><th scope=row>word_washington</th><td> 1</td><td> 4.00889588</td><td>175</td><td>212.5790</td><td>4.526078e-02</td></tr>\n",
              "\t<tr><th scope=row>word_nominee</th><td> 1</td><td> 5.49137346</td><td>174</td><td>207.0877</td><td>1.911052e-02</td></tr>\n",
              "</tbody>\n",
              "</table>\n"
            ],
            "text/markdown": "\nA anova: 8 × 5\n\n| <!--/--> | Df &lt;int&gt; | Deviance &lt;dbl&gt; | Resid. Df &lt;int&gt; | Resid. Dev &lt;dbl&gt; | Pr(&gt;Chi) &lt;dbl&gt; |\n|---|---|---|---|---|---|\n| NULL | NA |          NA | 181 | 252.3056 |           NA |\n| word_hillary |  1 |  7.96336248 | 180 | 244.3422 | 4.773366e-03 |\n| word_because |  1 |  0.01252443 | 179 | 244.3297 | 9.108927e-01 |\n| word_foundation |  1 |  2.94322715 | 178 | 241.3865 | 8.623828e-02 |\n| word_september |  1 |  5.84732907 | 177 | 235.5391 | 1.560071e-02 |\n| word_candidate |  1 | 18.95119001 | 176 | 216.5879 | 1.341056e-05 |\n| word_washington |  1 |  4.00889588 | 175 | 212.5790 | 4.526078e-02 |\n| word_nominee |  1 |  5.49137346 | 174 | 207.0877 | 1.911052e-02 |\n\n",
            "text/latex": "A anova: 8 × 5\n\\begin{tabular}{r|lllll}\n  & Df & Deviance & Resid. Df & Resid. Dev & Pr(>Chi)\\\\\n  & <int> & <dbl> & <int> & <dbl> & <dbl>\\\\\n\\hline\n\tNULL & NA &          NA & 181 & 252.3056 &           NA\\\\\n\tword\\_hillary &  1 &  7.96336248 & 180 & 244.3422 & 4.773366e-03\\\\\n\tword\\_because &  1 &  0.01252443 & 179 & 244.3297 & 9.108927e-01\\\\\n\tword\\_foundation &  1 &  2.94322715 & 178 & 241.3865 & 8.623828e-02\\\\\n\tword\\_september &  1 &  5.84732907 & 177 & 235.5391 & 1.560071e-02\\\\\n\tword\\_candidate &  1 & 18.95119001 & 176 & 216.5879 & 1.341056e-05\\\\\n\tword\\_washington &  1 &  4.00889588 & 175 & 212.5790 & 4.526078e-02\\\\\n\tword\\_nominee &  1 &  5.49137346 & 174 & 207.0877 & 1.911052e-02\\\\\n\\end{tabular}\n",
            "text/plain": [
              "                Df Deviance    Resid. Df Resid. Dev Pr(>Chi)    \n",
              "NULL            NA          NA 181       252.3056             NA\n",
              "word_hillary     1  7.96336248 180       244.3422   4.773366e-03\n",
              "word_because     1  0.01252443 179       244.3297   9.108927e-01\n",
              "word_foundation  1  2.94322715 178       241.3865   8.623828e-02\n",
              "word_september   1  5.84732907 177       235.5391   1.560071e-02\n",
              "word_candidate   1 18.95119001 176       216.5879   1.341056e-05\n",
              "word_washington  1  4.00889588 175       212.5790   4.526078e-02\n",
              "word_nominee     1  5.49137346 174       207.0877   1.911052e-02"
            ]
          },
          "metadata": {}
        }
      ]
    },
    {
      "cell_type": "code",
      "source": [
        "confint(model_best)"
      ],
      "metadata": {
        "colab": {
          "base_uri": "https://localhost:8080/",
          "height": 353
        },
        "id": "F2KUCLDMz-nb",
        "outputId": "4a64084a-416d-4bcc-d9b7-de2a28586857"
      },
      "execution_count": 148,
      "outputs": [
        {
          "output_type": "stream",
          "name": "stderr",
          "text": [
            "Waiting for profiling to be done...\n",
            "\n"
          ]
        },
        {
          "output_type": "display_data",
          "data": {
            "text/html": [
              "<table class=\"dataframe\">\n",
              "<caption>A matrix: 8 × 2 of type dbl</caption>\n",
              "<thead>\n",
              "\t<tr><th></th><th scope=col>2.5 %</th><th scope=col>97.5 %</th></tr>\n",
              "</thead>\n",
              "<tbody>\n",
              "\t<tr><th scope=row>(Intercept)</th><td>-0.450798549</td><td> 0.46278393</td></tr>\n",
              "\t<tr><th scope=row>word_hillary</th><td> 0.104694732</td><td> 0.41834485</td></tr>\n",
              "\t<tr><th scope=row>word_because</th><td> 0.030433545</td><td> 0.83640150</td></tr>\n",
              "\t<tr><th scope=row>word_foundation</th><td> 0.003543752</td><td> 0.50233709</td></tr>\n",
              "\t<tr><th scope=row>word_september</th><td>-0.842552145</td><td>-0.01573412</td></tr>\n",
              "\t<tr><th scope=row>word_candidate</th><td>-0.961081520</td><td>-0.13731095</td></tr>\n",
              "\t<tr><th scope=row>word_washington</th><td>-1.171697507</td><td> 0.01879687</td></tr>\n",
              "\t<tr><th scope=row>word_nominee</th><td>-1.491911438</td><td>-0.12235544</td></tr>\n",
              "</tbody>\n",
              "</table>\n"
            ],
            "text/markdown": "\nA matrix: 8 × 2 of type dbl\n\n| <!--/--> | 2.5 % | 97.5 % |\n|---|---|---|\n| (Intercept) | -0.450798549 |  0.46278393 |\n| word_hillary |  0.104694732 |  0.41834485 |\n| word_because |  0.030433545 |  0.83640150 |\n| word_foundation |  0.003543752 |  0.50233709 |\n| word_september | -0.842552145 | -0.01573412 |\n| word_candidate | -0.961081520 | -0.13731095 |\n| word_washington | -1.171697507 |  0.01879687 |\n| word_nominee | -1.491911438 | -0.12235544 |\n\n",
            "text/latex": "A matrix: 8 × 2 of type dbl\n\\begin{tabular}{r|ll}\n  & 2.5 \\% & 97.5 \\%\\\\\n\\hline\n\t(Intercept) & -0.450798549 &  0.46278393\\\\\n\tword\\_hillary &  0.104694732 &  0.41834485\\\\\n\tword\\_because &  0.030433545 &  0.83640150\\\\\n\tword\\_foundation &  0.003543752 &  0.50233709\\\\\n\tword\\_september & -0.842552145 & -0.01573412\\\\\n\tword\\_candidate & -0.961081520 & -0.13731095\\\\\n\tword\\_washington & -1.171697507 &  0.01879687\\\\\n\tword\\_nominee & -1.491911438 & -0.12235544\\\\\n\\end{tabular}\n",
            "text/plain": [
              "                2.5 %        97.5 %     \n",
              "(Intercept)     -0.450798549  0.46278393\n",
              "word_hillary     0.104694732  0.41834485\n",
              "word_because     0.030433545  0.83640150\n",
              "word_foundation  0.003543752  0.50233709\n",
              "word_september  -0.842552145 -0.01573412\n",
              "word_candidate  -0.961081520 -0.13731095\n",
              "word_washington -1.171697507  0.01879687\n",
              "word_nominee    -1.491911438 -0.12235544"
            ]
          },
          "metadata": {}
        }
      ]
    },
    {
      "cell_type": "code",
      "source": [
        "# Predict probabilities for the 'real_fake' outcome\n",
        "pred_probs <- predict(model_best, newdata = df_drop, type = \"response\")\n"
      ],
      "metadata": {
        "id": "ECc-699iIeez"
      },
      "execution_count": 149,
      "outputs": []
    },
    {
      "cell_type": "code",
      "source": [
        "# Example cut-off points\n",
        "cutoffs <- seq(0.1, 0.9, by = 0.1)\n",
        "for (cutoff in cutoffs) {\n",
        "  predictions <- ifelse(pred_probs > cutoff, 1, 0)\n",
        "  confusion_matrix <- table(Predicted = predictions, Actual = df_drop$real_fake)\n",
        "  print(paste(\"Cutoff:\", cutoff))\n",
        "  print(confusion_matrix)\n",
        "}"
      ],
      "metadata": {
        "colab": {
          "base_uri": "https://localhost:8080/"
        },
        "id": "R4SIW8bzIkqN",
        "outputId": "b6114958-1b72-46f5-b5ee-4301d9b16483"
      },
      "execution_count": 150,
      "outputs": [
        {
          "output_type": "stream",
          "name": "stdout",
          "text": [
            "[1] \"Cutoff: 0.1\"\n",
            "         Actual\n",
            "Predicted  0  1\n",
            "        0 11  0\n",
            "        1 80 91\n",
            "[1] \"Cutoff: 0.2\"\n",
            "         Actual\n",
            "Predicted  0  1\n",
            "        0 16  3\n",
            "        1 75 88\n",
            "[1] \"Cutoff: 0.3\"\n",
            "         Actual\n",
            "Predicted  0  1\n",
            "        0 29  4\n",
            "        1 62 87\n",
            "[1] \"Cutoff: 0.4\"\n",
            "         Actual\n",
            "Predicted  0  1\n",
            "        0 41 15\n",
            "        1 50 76\n",
            "[1] \"Cutoff: 0.5\"\n",
            "         Actual\n",
            "Predicted  0  1\n",
            "        0 59 21\n",
            "        1 32 70\n",
            "[1] \"Cutoff: 0.6\"\n",
            "         Actual\n",
            "Predicted  0  1\n",
            "        0 73 45\n",
            "        1 18 46\n",
            "[1] \"Cutoff: 0.7\"\n",
            "         Actual\n",
            "Predicted  0  1\n",
            "        0 84 62\n",
            "        1  7 29\n",
            "[1] \"Cutoff: 0.8\"\n",
            "         Actual\n",
            "Predicted  0  1\n",
            "        0 89 72\n",
            "        1  2 19\n",
            "[1] \"Cutoff: 0.9\"\n",
            "         Actual\n",
            "Predicted  0  1\n",
            "        0 91 80\n",
            "        1  0 11\n"
          ]
        }
      ]
    },
    {
      "cell_type": "code",
      "source": [
        "install.packages(\"pROC\")\n",
        "library(pROC)\n",
        "\n",
        "# Generate ROC curve\n",
        "roc_curve <- roc(df_drop$real_fake, pred_probs)\n",
        "plot(roc_curve, main = \"ROC Curve\", col = \"blue\")\n",
        "\n",
        "# Compute AUC\n",
        "auc(roc_curve)"
      ],
      "metadata": {
        "colab": {
          "base_uri": "https://localhost:8080/",
          "height": 829
        },
        "id": "5rDCVHnmInHZ",
        "outputId": "a27ca733-ea2b-48f5-a3ca-473449479292"
      },
      "execution_count": 152,
      "outputs": [
        {
          "output_type": "stream",
          "name": "stderr",
          "text": [
            "Installing package into ‘/usr/local/lib/R/site-library’\n",
            "(as ‘lib’ is unspecified)\n",
            "\n",
            "also installing the dependency ‘plyr’\n",
            "\n",
            "\n",
            "Type 'citation(\"pROC\")' for a citation.\n",
            "\n",
            "\n",
            "Attaching package: ‘pROC’\n",
            "\n",
            "\n",
            "The following objects are masked from ‘package:stats’:\n",
            "\n",
            "    cov, smooth, var\n",
            "\n",
            "\n",
            "Setting levels: control = 0, case = 1\n",
            "\n",
            "Setting direction: controls < cases\n",
            "\n"
          ]
        },
        {
          "output_type": "display_data",
          "data": {
            "text/html": [
              "0.762830576017389"
            ],
            "text/markdown": "0.762830576017389",
            "text/latex": "0.762830576017389",
            "text/plain": [
              "Area under the curve: 0.7628"
            ]
          },
          "metadata": {}
        },
        {
          "output_type": "display_data",
          "data": {
            "text/plain": [
              "Plot with title “ROC Curve”"
            ],
            "image/png": "[encoded data removed]"
          },
          "metadata": {
            "image/png": {
              "width": 420,
              "height": 420
            }
          }
        }
      ]
    },
    {
      "cell_type": "code",
      "source": [
        "# Find best cut-off point (Youden's Index maximization)\n",
        "best_cutoff <- coords(roc_curve, \"best\", ret = \"threshold\")\n",
        "best_cutoff"
      ],
      "metadata": {
        "colab": {
          "base_uri": "https://localhost:8080/",
          "height": 147
        },
        "id": "nXBCA-uFJr49",
        "outputId": "810fdd34-e796-4e7b-a0e8-6b2b42d0254f"
      },
      "execution_count": 153,
      "outputs": [
        {
          "output_type": "display_data",
          "data": {
            "text/html": [
              "<table class=\"dataframe\">\n",
              "<caption>A data.frame: 1 × 1</caption>\n",
              "<thead>\n",
              "\t<tr><th scope=col>threshold</th></tr>\n",
              "\t<tr><th scope=col>&lt;dbl&gt;</th></tr>\n",
              "</thead>\n",
              "<tbody>\n",
              "\t<tr><td>0.481395</td></tr>\n",
              "</tbody>\n",
              "</table>\n"
            ],
            "text/markdown": "\nA data.frame: 1 × 1\n\n| threshold &lt;dbl&gt; |\n|---|\n| 0.481395 |\n\n",
            "text/latex": "A data.frame: 1 × 1\n\\begin{tabular}{l}\n threshold\\\\\n <dbl>\\\\\n\\hline\n\t 0.481395\\\\\n\\end{tabular}\n",
            "text/plain": [
              "  threshold\n",
              "1 0.481395 "
            ]
          },
          "metadata": {}
        }
      ]
    },
    {
      "cell_type": "markdown",
      "source": [
        "## Reference\n",
        "\n",
        "* Opinion | Remember Nayirah, Witness for Kuwait? (Published 1992), www.nytimes.com/1992/01/06/opinion/remember-nayirah-witness-for-kuwait.html. Accessed 6 May 2025.\n",
        "* Shu, Kai, et al. “FakeNewsNet: A Data Repository with News Content, Social Context and Spatialtemporal Information for Studying Fake News on Social Media.” arXiv.Org, 27 Mar. 2019, arxiv.org/abs/1809.01286.\n",
        "* Mahudeswaran, Deepak. “FakeNewsNet.” Kaggle, 2 Nov. 2018, www.kaggle.com/datasets/mdepak/fakenewsnet/data.\n"
      ],
      "metadata": {
        "id": "csXERMUu-Zsw"
      }
    }
  ]
}