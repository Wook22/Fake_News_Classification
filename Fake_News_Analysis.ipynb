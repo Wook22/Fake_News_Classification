{
  "nbformat": 4,
  "nbformat_minor": 0,
  "metadata": {
    "colab": {
      "provenance": []
    },
    "kernelspec": {
      "name": "ir",
      "display_name": "R"
    },
    "language_info": {
      "name": "R"
    }
  },
  "cells": [
    {
      "cell_type": "markdown",
      "source": [
        "<a target=\"_blank\" href=\"https://colab.research.google.com/github/Wook22/Fake_News_Classification/blob/main/Fake_News_Analysis.ipynb\">\n",
        "  <img src=\"https://colab.research.google.com/assets/colab-badge.svg\" alt=\"Open In Colab\"/>\n",
        "</a>"
      ],
      "metadata": {
        "id": "Kn2j1jVm6dfi"
      }
    },
    {
      "cell_type": "markdown",
      "source": [
        "# **Data Analysis on Fake News**\n",
        "\n",
        "### Abstract\n"
      ],
      "metadata": {
        "id": "IWep6-Vs6I2M"
      }
    },
    {
      "cell_type": "markdown",
      "source": [
        "\n",
        "\n",
        "## Introduction\n",
        "\n",
        "Have you ever questioned whether the news you see is real or not? Since the internet became widespread, fake news has increasingly been used as a tool to manipulate public opinion. One of the most well-known examples is the Nayirah testimony. On October 10, 1990, a 15-year-old Kuwaiti girl gave a false testimony before the United States Congressional Human Rights Caucus. She claimed to be a volunteer nurse at a Kuwaiti hospital during the Iraqi invasion. In her testimony, she said she witnessed Iraqi soldiers removing premature babies from incubators, stealing the equipment, and leaving the babies to die on the floor. This emotional account played a significant role in shaping public support and helped President George H. W. Bush justify military action against Iraq.\n",
        "\n",
        "However,\n",
        "\n",
        "\"was shown to be almost certainly false by an ABC reporter, John Martin, in March 1991\" (The New York Times)\n",
        "\n",
        "In January 1992, it was revealed that she had never been a nurse and was, in fact, the daughter of Saud Nasser Al-Saud Al-Sabah, the Kuwaiti ambassador to the United States at the time of her testimony. This raises an important question: What should we believe, and what should we not? In an age where misinformation can spread quickly, it's becoming increasingly difficult to know what is true and what is not.\n",
        "\n",
        "Throughout this project, I will develop a model that predicts whether a news article is real or fake based on the count of phrases and language used in the text.\n",
        "\n",
        "\n",
        "\n"
      ],
      "metadata": {
        "id": "Pws6kWRX6z4J"
      }
    },
    {
      "cell_type": "markdown",
      "source": [
        "## Data Description\n",
        "\n"
      ],
      "metadata": {
        "id": "5RHgr0r8Nf5v"
      }
    },
    {
      "cell_type": "code",
      "execution_count": 32,
      "metadata": {
        "id": "n10NWW683AfL"
      },
      "outputs": [],
      "source": [
        "df_real = read.csv(\"BuzzFeed_real_news_content.csv\")\n",
        "df_fake = read.csv(\"BuzzFeed_fake_news_content.csv\")"
      ]
    },
    {
      "cell_type": "code",
      "source": [
        "colnames(df_real)"
      ],
      "metadata": {
        "colab": {
          "base_uri": "https://localhost:8080/",
          "height": 34
        },
        "id": "VPXDt0igVDCa",
        "outputId": "2782940d-0f7f-4c7e-afad-d600dafc598b"
      },
      "execution_count": 8,
      "outputs": [
        {
          "output_type": "display_data",
          "data": {
            "text/html": [
              "<style>\n",
              ".list-inline {list-style: none; margin:0; padding: 0}\n",
              ".list-inline>li {display: inline-block}\n",
              ".list-inline>li:not(:last-child)::after {content: \"\\00b7\"; padding: 0 .5ex}\n",
              "</style>\n",
              "<ol class=list-inline><li>'id'</li><li>'title'</li><li>'text'</li><li>'url'</li><li>'top_img'</li><li>'authors'</li><li>'source'</li><li>'publish_date'</li><li>'movies'</li><li>'images'</li><li>'canonical_link'</li><li>'meta_data'</li></ol>\n"
            ],
            "text/markdown": "1. 'id'\n2. 'title'\n3. 'text'\n4. 'url'\n5. 'top_img'\n6. 'authors'\n7. 'source'\n8. 'publish_date'\n9. 'movies'\n10. 'images'\n11. 'canonical_link'\n12. 'meta_data'\n\n\n",
            "text/latex": "\\begin{enumerate*}\n\\item 'id'\n\\item 'title'\n\\item 'text'\n\\item 'url'\n\\item 'top\\_img'\n\\item 'authors'\n\\item 'source'\n\\item 'publish\\_date'\n\\item 'movies'\n\\item 'images'\n\\item 'canonical\\_link'\n\\item 'meta\\_data'\n\\end{enumerate*}\n",
            "text/plain": [
              " [1] \"id\"             \"title\"          \"text\"           \"url\"           \n",
              " [5] \"top_img\"        \"authors\"        \"source\"         \"publish_date\"  \n",
              " [9] \"movies\"         \"images\"         \"canonical_link\" \"meta_data\"     "
            ]
          },
          "metadata": {}
        }
      ]
    },
    {
      "cell_type": "code",
      "source": [
        "colnames(df_fake)"
      ],
      "metadata": {
        "colab": {
          "base_uri": "https://localhost:8080/",
          "height": 34
        },
        "id": "1AcFMTCgVaDI",
        "outputId": "7900ab10-9028-459e-f2ae-233743b86b9b"
      },
      "execution_count": 9,
      "outputs": [
        {
          "output_type": "display_data",
          "data": {
            "text/html": [
              "<style>\n",
              ".list-inline {list-style: none; margin:0; padding: 0}\n",
              ".list-inline>li {display: inline-block}\n",
              ".list-inline>li:not(:last-child)::after {content: \"\\00b7\"; padding: 0 .5ex}\n",
              "</style>\n",
              "<ol class=list-inline><li>'id'</li><li>'title'</li><li>'text'</li><li>'url'</li><li>'top_img'</li><li>'authors'</li><li>'source'</li><li>'publish_date'</li><li>'movies'</li><li>'images'</li><li>'canonical_link'</li><li>'meta_data'</li></ol>\n"
            ],
            "text/markdown": "1. 'id'\n2. 'title'\n3. 'text'\n4. 'url'\n5. 'top_img'\n6. 'authors'\n7. 'source'\n8. 'publish_date'\n9. 'movies'\n10. 'images'\n11. 'canonical_link'\n12. 'meta_data'\n\n\n",
            "text/latex": "\\begin{enumerate*}\n\\item 'id'\n\\item 'title'\n\\item 'text'\n\\item 'url'\n\\item 'top\\_img'\n\\item 'authors'\n\\item 'source'\n\\item 'publish\\_date'\n\\item 'movies'\n\\item 'images'\n\\item 'canonical\\_link'\n\\item 'meta\\_data'\n\\end{enumerate*}\n",
            "text/plain": [
              " [1] \"id\"             \"title\"          \"text\"           \"url\"           \n",
              " [5] \"top_img\"        \"authors\"        \"source\"         \"publish_date\"  \n",
              " [9] \"movies\"         \"images\"         \"canonical_link\" \"meta_data\"     "
            ]
          },
          "metadata": {}
        }
      ]
    },
    {
      "cell_type": "code",
      "source": [
        "df_real[\"real_fake\"] = 0\n",
        "df_fake[\"real_fake\"] = 1\n",
        "\n",
        "buzzfeed = rbind(df_real, df_fake)"
      ],
      "metadata": {
        "id": "5rxfcOs2Vm-7"
      },
      "execution_count": 33,
      "outputs": []
    },
    {
      "cell_type": "code",
      "source": [
        "install.packages(c(\"tidytext\", \"dplyr\", \"stringr\", \"tidyr\"))\n",
        "\n",
        "# Load necessary libraries\n",
        "library(dplyr)\n",
        "library(stringr)\n",
        "library(tidytext)\n",
        "library(tidyr)\n"
      ],
      "metadata": {
        "colab": {
          "base_uri": "https://localhost:8080/"
        },
        "id": "Jcd7tl14WIoJ",
        "outputId": "626c11d7-67a2-40e3-b22c-fa6b216d89fb"
      },
      "execution_count": 14,
      "outputs": [
        {
          "output_type": "stream",
          "name": "stderr",
          "text": [
            "Installing packages into ‘/usr/local/lib/R/site-library’\n",
            "(as ‘lib’ is unspecified)\n",
            "\n",
            "also installing the dependencies ‘SnowballC’, ‘janeaustenr’, ‘tokenizers’\n",
            "\n",
            "\n"
          ]
        }
      ]
    },
    {
      "cell_type": "code",
      "source": [
        "# Create temporary dataset\n",
        "df <- buzzfeed\n",
        "\n",
        "# Tokenize text and count word frequencies\n",
        "all_words <- df %>%\n",
        "  select(text) %>%\n",
        "  unnest_tokens(word, text) %>%\n",
        "  count(word, sort = TRUE)\n",
        "\n",
        "# Function to estimate syllables by counting vowel groups\n",
        "estimate_syllables <- function(word) {\n",
        "  str_count(tolower(word), \"[aeiouy]+\")\n",
        "}\n",
        "\n",
        "# Add syllable counts\n",
        "all_words <- all_words %>%\n",
        "  mutate(syllables = estimate_syllables(word)) %>%\n",
        "  filter(syllables > 2)\n",
        "\n",
        "# Get top 10 words with more than 5 syllables\n",
        "top10_words <- head(all_words$word, 20)\n",
        "\n",
        "# Function to count word occurrences in text\n",
        "count_word <- function(text, word) {\n",
        "  str_count(tolower(text), fixed(tolower(word)))\n",
        "}\n",
        "\n",
        "# Create new columns for each top word\n",
        "for (w in top10_words) {\n",
        "  df[[paste0(\"word_\", w)]] <- sapply(df$text, count_word, word = w)\n",
        "}"
      ],
      "metadata": {
        "id": "eLGPEITtYqtb"
      },
      "execution_count": 44,
      "outputs": []
    },
    {
      "cell_type": "code",
      "source": [
        "# 'id''title''text''url''top_img''authors''source'\n",
        "# 'publish_date''movies''images''canonical_link''meta_data'\n",
        "\n",
        "# Remove columns by name\n",
        "df_drop <- df %>%\n",
        "  select(-text, -url, -top_img, -movies, -images, -canonical_link, -meta_data)"
      ],
      "metadata": {
        "id": "vvtNQJA-Zx9d"
      },
      "execution_count": 45,
      "outputs": []
    },
    {
      "cell_type": "code",
      "source": [
        "head(df_drop)"
      ],
      "metadata": {
        "colab": {
          "base_uri": "https://localhost:8080/",
          "height": 1000
        },
        "id": "avpgptxxam-i",
        "outputId": "4b9e518c-5bea-44e3-fee2-9eb31aa058bf"
      },
      "execution_count": 46,
      "outputs": [
        {
          "output_type": "display_data",
          "data": {
            "text/html": [
              "<table class=\"dataframe\">\n",
              "<caption>A data.frame: 6 × 26</caption>\n",
              "<thead>\n",
              "\t<tr><th></th><th scope=col>id</th><th scope=col>title</th><th scope=col>authors</th><th scope=col>source</th><th scope=col>publish_date</th><th scope=col>real_fake</th><th scope=col>word_hillary</th><th scope=col>word_president</th><th scope=col>word_debate</th><th scope=col>word_obama</th><th scope=col>⋯</th><th scope=col>word_election</th><th scope=col>word_republican</th><th scope=col>word_foundation</th><th scope=col>word_according</th><th scope=col>word_every</th><th scope=col>word_september</th><th scope=col>word_united</th><th scope=col>word_another</th><th scope=col>word_political</th><th scope=col>word_candidate</th></tr>\n",
              "\t<tr><th></th><th scope=col>&lt;chr&gt;</th><th scope=col>&lt;chr&gt;</th><th scope=col>&lt;chr&gt;</th><th scope=col>&lt;chr&gt;</th><th scope=col>&lt;chr&gt;</th><th scope=col>&lt;dbl&gt;</th><th scope=col>&lt;int&gt;</th><th scope=col>&lt;int&gt;</th><th scope=col>&lt;int&gt;</th><th scope=col>&lt;int&gt;</th><th scope=col>⋯</th><th scope=col>&lt;int&gt;</th><th scope=col>&lt;int&gt;</th><th scope=col>&lt;int&gt;</th><th scope=col>&lt;int&gt;</th><th scope=col>&lt;int&gt;</th><th scope=col>&lt;int&gt;</th><th scope=col>&lt;int&gt;</th><th scope=col>&lt;int&gt;</th><th scope=col>&lt;int&gt;</th><th scope=col>&lt;int&gt;</th></tr>\n",
              "</thead>\n",
              "<tbody>\n",
              "\t<tr><th scope=row>1</th><td>Real_1-Webpage </td><td>Another Terrorist Attack in NYC…Why Are we STILL Being Politically Correct – Eagle Rising                   </td><td>View All Posts,Leonora Cravotta                 </td><td>http://eaglerising.com  </td><td>{'$date': 1474528230000}</td><td>0</td><td>1</td><td>1</td><td>0</td><td>0</td><td>⋯</td><td>0</td><td>0</td><td>0</td><td>0</td><td>1</td><td>2</td><td>0</td><td>0</td><td>2</td><td>1</td></tr>\n",
              "\t<tr><th scope=row>2</th><td>Real_10-Webpage</td><td>Donald Trump: Drugs a 'Very, Very Big Factor' in Charlotte Protests                                         </td><td>More Candace,Adam Kelsey,Abc News,More Adam     </td><td>http://abcn.ws          </td><td>                        </td><td>0</td><td>0</td><td>1</td><td>0</td><td>0</td><td>⋯</td><td>0</td><td>2</td><td>0</td><td>2</td><td>1</td><td>0</td><td>0</td><td>0</td><td>0</td><td>0</td></tr>\n",
              "\t<tr><th scope=row>3</th><td>Real_11-Webpage</td><td>Obama To UN: ‘Giving Up Liberty, Enhances Security In America…’ [VIDEO]                                     </td><td>Cassy Fiano                                     </td><td>http://rightwingnews.com</td><td>{'$date': 1474476044000}</td><td>0</td><td>0</td><td>0</td><td>0</td><td>9</td><td>⋯</td><td>0</td><td>0</td><td>0</td><td>0</td><td>2</td><td>0</td><td>7</td><td>0</td><td>0</td><td>0</td></tr>\n",
              "\t<tr><th scope=row>4</th><td>Real_12-Webpage</td><td>Trump vs. Clinton: A Fundamental Clash over How the Economy Works                                           </td><td>Jack Shafer,Erick Trickey,Zachary Karabell      </td><td>http://politi.co        </td><td>{'$date': 1474974420000}</td><td>0</td><td>3</td><td>1</td><td>1</td><td>1</td><td>⋯</td><td>3</td><td>1</td><td>1</td><td>0</td><td>6</td><td>0</td><td>5</td><td>1</td><td>2</td><td>1</td></tr>\n",
              "\t<tr><th scope=row>5</th><td>Real_13-Webpage</td><td>President Obama Vetoes 9/11 Victims Bill, Setting Up Showdown With Congress                                 </td><td>John Parkinson,More John,Abc News,More Alexander</td><td>http://abcn.ws          </td><td>                        </td><td>0</td><td>1</td><td>7</td><td>0</td><td>5</td><td>⋯</td><td>1</td><td>0</td><td>0</td><td>0</td><td>0</td><td>1</td><td>1</td><td>0</td><td>1</td><td>0</td></tr>\n",
              "\t<tr><th scope=row>6</th><td>Real_14-Webpage</td><td>CHAOS! NC Protest MOB Ambushes Female Truck Driver, Loots Truck, Sets Cargo On Fire – No One Helps!? [VIDEO]</td><td>Cassy Fiano                                     </td><td>http://rightwingnews.com</td><td>{'$date': 1474473199000}</td><td>0</td><td>1</td><td>0</td><td>0</td><td>0</td><td>⋯</td><td>0</td><td>0</td><td>0</td><td>0</td><td>1</td><td>2</td><td>0</td><td>0</td><td>0</td><td>0</td></tr>\n",
              "</tbody>\n",
              "</table>\n"
            ],
            "text/markdown": "\nA data.frame: 6 × 26\n\n| <!--/--> | id &lt;chr&gt; | title &lt;chr&gt; | authors &lt;chr&gt; | source &lt;chr&gt; | publish_date &lt;chr&gt; | real_fake &lt;dbl&gt; | word_hillary &lt;int&gt; | word_president &lt;int&gt; | word_debate &lt;int&gt; | word_obama &lt;int&gt; | ⋯ ⋯ | word_election &lt;int&gt; | word_republican &lt;int&gt; | word_foundation &lt;int&gt; | word_according &lt;int&gt; | word_every &lt;int&gt; | word_september &lt;int&gt; | word_united &lt;int&gt; | word_another &lt;int&gt; | word_political &lt;int&gt; | word_candidate &lt;int&gt; |\n|---|---|---|---|---|---|---|---|---|---|---|---|---|---|---|---|---|---|---|---|---|---|\n| 1 | Real_1-Webpage  | Another Terrorist Attack in NYC…Why Are we STILL Being Politically Correct – Eagle Rising                    | View All Posts,Leonora Cravotta                  | http://eaglerising.com   | {'$date': 1474528230000} | 0 | 1 | 1 | 0 | 0 | ⋯ | 0 | 0 | 0 | 0 | 1 | 2 | 0 | 0 | 2 | 1 |\n| 2 | Real_10-Webpage | Donald Trump: Drugs a 'Very, Very Big Factor' in Charlotte Protests                                          | More Candace,Adam Kelsey,Abc News,More Adam      | http://abcn.ws           | <!----> | 0 | 0 | 1 | 0 | 0 | ⋯ | 0 | 2 | 0 | 2 | 1 | 0 | 0 | 0 | 0 | 0 |\n| 3 | Real_11-Webpage | Obama To UN: ‘Giving Up Liberty, Enhances Security In America…’ [VIDEO]                                      | Cassy Fiano                                      | http://rightwingnews.com | {'$date': 1474476044000} | 0 | 0 | 0 | 0 | 9 | ⋯ | 0 | 0 | 0 | 0 | 2 | 0 | 7 | 0 | 0 | 0 |\n| 4 | Real_12-Webpage | Trump vs. Clinton: A Fundamental Clash over How the Economy Works                                            | Jack Shafer,Erick Trickey,Zachary Karabell       | http://politi.co         | {'$date': 1474974420000} | 0 | 3 | 1 | 1 | 1 | ⋯ | 3 | 1 | 1 | 0 | 6 | 0 | 5 | 1 | 2 | 1 |\n| 5 | Real_13-Webpage | President Obama Vetoes 9/11 Victims Bill, Setting Up Showdown With Congress                                  | John Parkinson,More John,Abc News,More Alexander | http://abcn.ws           | <!----> | 0 | 1 | 7 | 0 | 5 | ⋯ | 1 | 0 | 0 | 0 | 0 | 1 | 1 | 0 | 1 | 0 |\n| 6 | Real_14-Webpage | CHAOS! NC Protest MOB Ambushes Female Truck Driver, Loots Truck, Sets Cargo On Fire – No One Helps!? [VIDEO] | Cassy Fiano                                      | http://rightwingnews.com | {'$date': 1474473199000} | 0 | 1 | 0 | 0 | 0 | ⋯ | 0 | 0 | 0 | 0 | 1 | 2 | 0 | 0 | 0 | 0 |\n\n",
            "text/latex": "A data.frame: 6 × 26\n\\begin{tabular}{r|lllllllllllllllllllll}\n  & id & title & authors & source & publish\\_date & real\\_fake & word\\_hillary & word\\_president & word\\_debate & word\\_obama & ⋯ & word\\_election & word\\_republican & word\\_foundation & word\\_according & word\\_every & word\\_september & word\\_united & word\\_another & word\\_political & word\\_candidate\\\\\n  & <chr> & <chr> & <chr> & <chr> & <chr> & <dbl> & <int> & <int> & <int> & <int> & ⋯ & <int> & <int> & <int> & <int> & <int> & <int> & <int> & <int> & <int> & <int>\\\\\n\\hline\n\t1 & Real\\_1-Webpage  & Another Terrorist Attack in NYC…Why Are we STILL Being Politically Correct – Eagle Rising                    & View All Posts,Leonora Cravotta                  & http://eaglerising.com   & \\{'\\$date': 1474528230000\\} & 0 & 1 & 1 & 0 & 0 & ⋯ & 0 & 0 & 0 & 0 & 1 & 2 & 0 & 0 & 2 & 1\\\\\n\t2 & Real\\_10-Webpage & Donald Trump: Drugs a 'Very, Very Big Factor' in Charlotte Protests                                          & More Candace,Adam Kelsey,Abc News,More Adam      & http://abcn.ws           &                          & 0 & 0 & 1 & 0 & 0 & ⋯ & 0 & 2 & 0 & 2 & 1 & 0 & 0 & 0 & 0 & 0\\\\\n\t3 & Real\\_11-Webpage & Obama To UN: ‘Giving Up Liberty, Enhances Security In America…’ {[}VIDEO{]}                                      & Cassy Fiano                                      & http://rightwingnews.com & \\{'\\$date': 1474476044000\\} & 0 & 0 & 0 & 0 & 9 & ⋯ & 0 & 0 & 0 & 0 & 2 & 0 & 7 & 0 & 0 & 0\\\\\n\t4 & Real\\_12-Webpage & Trump vs. Clinton: A Fundamental Clash over How the Economy Works                                            & Jack Shafer,Erick Trickey,Zachary Karabell       & http://politi.co         & \\{'\\$date': 1474974420000\\} & 0 & 3 & 1 & 1 & 1 & ⋯ & 3 & 1 & 1 & 0 & 6 & 0 & 5 & 1 & 2 & 1\\\\\n\t5 & Real\\_13-Webpage & President Obama Vetoes 9/11 Victims Bill, Setting Up Showdown With Congress                                  & John Parkinson,More John,Abc News,More Alexander & http://abcn.ws           &                          & 0 & 1 & 7 & 0 & 5 & ⋯ & 1 & 0 & 0 & 0 & 0 & 1 & 1 & 0 & 1 & 0\\\\\n\t6 & Real\\_14-Webpage & CHAOS! NC Protest MOB Ambushes Female Truck Driver, Loots Truck, Sets Cargo On Fire – No One Helps!? {[}VIDEO{]} & Cassy Fiano                                      & http://rightwingnews.com & \\{'\\$date': 1474473199000\\} & 0 & 1 & 0 & 0 & 0 & ⋯ & 0 & 0 & 0 & 0 & 1 & 2 & 0 & 0 & 0 & 0\\\\\n\\end{tabular}\n",
            "text/plain": [
              "  id             \n",
              "1 Real_1-Webpage \n",
              "2 Real_10-Webpage\n",
              "3 Real_11-Webpage\n",
              "4 Real_12-Webpage\n",
              "5 Real_13-Webpage\n",
              "6 Real_14-Webpage\n",
              "  title                                                                                                       \n",
              "1 Another Terrorist Attack in NYC…Why Are we STILL Being Politically Correct – Eagle Rising                   \n",
              "2 Donald Trump: Drugs a 'Very, Very Big Factor' in Charlotte Protests                                         \n",
              "3 Obama To UN: ‘Giving Up Liberty, Enhances Security In America…’ [VIDEO]                                     \n",
              "4 Trump vs. Clinton: A Fundamental Clash over How the Economy Works                                           \n",
              "5 President Obama Vetoes 9/11 Victims Bill, Setting Up Showdown With Congress                                 \n",
              "6 CHAOS! NC Protest MOB Ambushes Female Truck Driver, Loots Truck, Sets Cargo On Fire – No One Helps!? [VIDEO]\n",
              "  authors                                          source                  \n",
              "1 View All Posts,Leonora Cravotta                  http://eaglerising.com  \n",
              "2 More Candace,Adam Kelsey,Abc News,More Adam      http://abcn.ws          \n",
              "3 Cassy Fiano                                      http://rightwingnews.com\n",
              "4 Jack Shafer,Erick Trickey,Zachary Karabell       http://politi.co        \n",
              "5 John Parkinson,More John,Abc News,More Alexander http://abcn.ws          \n",
              "6 Cassy Fiano                                      http://rightwingnews.com\n",
              "  publish_date             real_fake word_hillary word_president word_debate\n",
              "1 {'$date': 1474528230000} 0         1            1              0          \n",
              "2                          0         0            1              0          \n",
              "3 {'$date': 1474476044000} 0         0            0              0          \n",
              "4 {'$date': 1474974420000} 0         3            1              1          \n",
              "5                          0         1            7              0          \n",
              "6 {'$date': 1474473199000} 0         1            0              0          \n",
              "  word_obama ⋯ word_election word_republican word_foundation word_according\n",
              "1 0          ⋯ 0             0               0               0             \n",
              "2 0          ⋯ 0             2               0               2             \n",
              "3 9          ⋯ 0             0               0               0             \n",
              "4 1          ⋯ 3             1               1               0             \n",
              "5 5          ⋯ 1             0               0               0             \n",
              "6 0          ⋯ 0             0               0               0             \n",
              "  word_every word_september word_united word_another word_political\n",
              "1 1          2              0           0            2             \n",
              "2 1          0              0           0            0             \n",
              "3 2          0              7           0            0             \n",
              "4 6          0              5           1            2             \n",
              "5 0          1              1           0            1             \n",
              "6 1          2              0           0            0             \n",
              "  word_candidate\n",
              "1 1             \n",
              "2 0             \n",
              "3 0             \n",
              "4 1             \n",
              "5 0             \n",
              "6 0             "
            ]
          },
          "metadata": {}
        }
      ]
    },
    {
      "cell_type": "markdown",
      "source": [
        "## Reference\n",
        "\n",
        "* Opinion | Remember Nayirah, Witness for Kuwait? (Published 1992), www.nytimes.com/1992/01/06/opinion/remember-nayirah-witness-for-kuwait.html. Accessed 6 May 2025.\n",
        "* Shu, Kai, et al. “FakeNewsNet: A Data Repository with News Content, Social Context and Spatialtemporal Information for Studying Fake News on Social Media.” arXiv.Org, 27 Mar. 2019, arxiv.org/abs/1809.01286.\n",
        "* Mahudeswaran, Deepak. “FakeNewsNet.” Kaggle, 2 Nov. 2018, www.kaggle.com/datasets/mdepak/fakenewsnet/data.\n"
      ],
      "metadata": {
        "id": "csXERMUu-Zsw"
      }
    }
  ]
}